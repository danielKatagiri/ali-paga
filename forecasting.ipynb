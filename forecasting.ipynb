{
 "cells": [
  {
   "cell_type": "code",
   "execution_count": 34,
   "id": "1004f0be-66c2-46a9-abb0-904801240ffd",
   "metadata": {},
   "outputs": [],
   "source": [
    "import pandas as pd\n",
    "import matplotlib.pyplot as plt\n",
    "\n",
    "from statsmodels.tsa.seasonal import seasonal_decompose\n",
    "from prophet import Prophet\n",
    "from plotly.graph_objects import Figure, Scatter\n",
    "from sklearn.metrics import mean_squared_error, mean_absolute_percentage_error, mean_absolute_error\n",
    "\n",
    "plt.rcParams['figure.figsize'] = [20, 5]"
   ]
  },
  {
   "cell_type": "code",
   "execution_count": 35,
   "id": "fe945a24-77f8-4981-9402-bdd63d4799ea",
   "metadata": {},
   "outputs": [
    {
     "data": {
      "text/html": [
       "<div>\n",
       "<style scoped>\n",
       "    .dataframe tbody tr th:only-of-type {\n",
       "        vertical-align: middle;\n",
       "    }\n",
       "\n",
       "    .dataframe tbody tr th {\n",
       "        vertical-align: top;\n",
       "    }\n",
       "\n",
       "    .dataframe thead th {\n",
       "        text-align: right;\n",
       "    }\n",
       "</style>\n",
       "<table border=\"1\" class=\"dataframe\">\n",
       "  <thead>\n",
       "    <tr style=\"text-align: right;\">\n",
       "      <th></th>\n",
       "      <th>0</th>\n",
       "      <th>1</th>\n",
       "      <th>2</th>\n",
       "      <th>3</th>\n",
       "      <th>4</th>\n",
       "    </tr>\n",
       "  </thead>\n",
       "  <tbody>\n",
       "    <tr>\n",
       "      <th>row_id</th>\n",
       "      <td>42433</td>\n",
       "      <td>22253</td>\n",
       "      <td>48883</td>\n",
       "      <td>11731</td>\n",
       "      <td>22255</td>\n",
       "    </tr>\n",
       "    <tr>\n",
       "      <th>order_id</th>\n",
       "      <td>AG-2011-2040</td>\n",
       "      <td>IN-2011-47883</td>\n",
       "      <td>HU-2011-1220</td>\n",
       "      <td>IT-2011-3647632</td>\n",
       "      <td>IN-2011-47883</td>\n",
       "    </tr>\n",
       "    <tr>\n",
       "      <th>order_date</th>\n",
       "      <td>2011-01-01 00:00:00</td>\n",
       "      <td>2011-01-01 00:00:00</td>\n",
       "      <td>2011-01-01 00:00:00</td>\n",
       "      <td>2011-01-01 00:00:00</td>\n",
       "      <td>2011-01-01 00:00:00</td>\n",
       "    </tr>\n",
       "    <tr>\n",
       "      <th>ship_date</th>\n",
       "      <td>2011-06-01 00:00:00</td>\n",
       "      <td>2011-08-01 00:00:00</td>\n",
       "      <td>2011-05-01 00:00:00</td>\n",
       "      <td>2011-05-01 00:00:00</td>\n",
       "      <td>2011-08-01 00:00:00</td>\n",
       "    </tr>\n",
       "    <tr>\n",
       "      <th>ship_mode</th>\n",
       "      <td>Standard Class</td>\n",
       "      <td>Standard Class</td>\n",
       "      <td>Second Class</td>\n",
       "      <td>Second Class</td>\n",
       "      <td>Standard Class</td>\n",
       "    </tr>\n",
       "    <tr>\n",
       "      <th>customer_id</th>\n",
       "      <td>TB-11280</td>\n",
       "      <td>JH-15985</td>\n",
       "      <td>AT-735</td>\n",
       "      <td>EM-14140</td>\n",
       "      <td>JH-15985</td>\n",
       "    </tr>\n",
       "    <tr>\n",
       "      <th>customer_name</th>\n",
       "      <td>Toby Braunhardt</td>\n",
       "      <td>Joseph Holt</td>\n",
       "      <td>Annie Thurman</td>\n",
       "      <td>Eugene Moren</td>\n",
       "      <td>Joseph Holt</td>\n",
       "    </tr>\n",
       "    <tr>\n",
       "      <th>segment</th>\n",
       "      <td>Consumer</td>\n",
       "      <td>Consumer</td>\n",
       "      <td>Consumer</td>\n",
       "      <td>Home Office</td>\n",
       "      <td>Consumer</td>\n",
       "    </tr>\n",
       "    <tr>\n",
       "      <th>city</th>\n",
       "      <td>Constantine</td>\n",
       "      <td>Wagga Wagga</td>\n",
       "      <td>Budapest</td>\n",
       "      <td>Stockholm</td>\n",
       "      <td>Wagga Wagga</td>\n",
       "    </tr>\n",
       "    <tr>\n",
       "      <th>state</th>\n",
       "      <td>Constantine</td>\n",
       "      <td>New South Wales</td>\n",
       "      <td>Budapest</td>\n",
       "      <td>Stockholm</td>\n",
       "      <td>New South Wales</td>\n",
       "    </tr>\n",
       "    <tr>\n",
       "      <th>country</th>\n",
       "      <td>Algeria</td>\n",
       "      <td>Australia</td>\n",
       "      <td>Hungary</td>\n",
       "      <td>Sweden</td>\n",
       "      <td>Australia</td>\n",
       "    </tr>\n",
       "    <tr>\n",
       "      <th>postal_code</th>\n",
       "      <td>NaN</td>\n",
       "      <td>NaN</td>\n",
       "      <td>NaN</td>\n",
       "      <td>NaN</td>\n",
       "      <td>NaN</td>\n",
       "    </tr>\n",
       "    <tr>\n",
       "      <th>market</th>\n",
       "      <td>Africa</td>\n",
       "      <td>APAC</td>\n",
       "      <td>EMEA</td>\n",
       "      <td>EU</td>\n",
       "      <td>APAC</td>\n",
       "    </tr>\n",
       "    <tr>\n",
       "      <th>region</th>\n",
       "      <td>Africa</td>\n",
       "      <td>Oceania</td>\n",
       "      <td>EMEA</td>\n",
       "      <td>North</td>\n",
       "      <td>Oceania</td>\n",
       "    </tr>\n",
       "    <tr>\n",
       "      <th>product_id</th>\n",
       "      <td>OFF-TEN-10000025</td>\n",
       "      <td>OFF-SU-10000618</td>\n",
       "      <td>OFF-TEN-10001585</td>\n",
       "      <td>OFF-PA-10001492</td>\n",
       "      <td>FUR-FU-10003447</td>\n",
       "    </tr>\n",
       "    <tr>\n",
       "      <th>category</th>\n",
       "      <td>Office Supplies</td>\n",
       "      <td>Office Supplies</td>\n",
       "      <td>Office Supplies</td>\n",
       "      <td>Office Supplies</td>\n",
       "      <td>Furniture</td>\n",
       "    </tr>\n",
       "    <tr>\n",
       "      <th>sub-category</th>\n",
       "      <td>Storage</td>\n",
       "      <td>Supplies</td>\n",
       "      <td>Storage</td>\n",
       "      <td>Paper</td>\n",
       "      <td>Furnishings</td>\n",
       "    </tr>\n",
       "    <tr>\n",
       "      <th>product_name</th>\n",
       "      <td>Tenex Lockers, Blue</td>\n",
       "      <td>Acme Trimmer, High Speed</td>\n",
       "      <td>Tenex Box, Single Width</td>\n",
       "      <td>Enermax Note Cards, Premium</td>\n",
       "      <td>Eldon Light Bulb, Duo Pack</td>\n",
       "    </tr>\n",
       "    <tr>\n",
       "      <th>sales</th>\n",
       "      <td>408.3</td>\n",
       "      <td>120.366</td>\n",
       "      <td>66.12</td>\n",
       "      <td>44.865</td>\n",
       "      <td>113.67</td>\n",
       "    </tr>\n",
       "    <tr>\n",
       "      <th>quantity</th>\n",
       "      <td>2</td>\n",
       "      <td>3</td>\n",
       "      <td>4</td>\n",
       "      <td>3</td>\n",
       "      <td>5</td>\n",
       "    </tr>\n",
       "    <tr>\n",
       "      <th>discount</th>\n",
       "      <td>0.0</td>\n",
       "      <td>0.1</td>\n",
       "      <td>0.0</td>\n",
       "      <td>0.5</td>\n",
       "      <td>0.1</td>\n",
       "    </tr>\n",
       "    <tr>\n",
       "      <th>profit</th>\n",
       "      <td>106.14</td>\n",
       "      <td>36.036</td>\n",
       "      <td>29.64</td>\n",
       "      <td>-26.055</td>\n",
       "      <td>37.77</td>\n",
       "    </tr>\n",
       "    <tr>\n",
       "      <th>shipping_cost</th>\n",
       "      <td>35.46</td>\n",
       "      <td>9.72</td>\n",
       "      <td>8.17</td>\n",
       "      <td>4.82</td>\n",
       "      <td>4.7</td>\n",
       "    </tr>\n",
       "    <tr>\n",
       "      <th>order_priority</th>\n",
       "      <td>Medium</td>\n",
       "      <td>Medium</td>\n",
       "      <td>High</td>\n",
       "      <td>High</td>\n",
       "      <td>Medium</td>\n",
       "    </tr>\n",
       "  </tbody>\n",
       "</table>\n",
       "</div>"
      ],
      "text/plain": [
       "                                  0                         1  \\\n",
       "row_id                        42433                     22253   \n",
       "order_id               AG-2011-2040             IN-2011-47883   \n",
       "order_date      2011-01-01 00:00:00       2011-01-01 00:00:00   \n",
       "ship_date       2011-06-01 00:00:00       2011-08-01 00:00:00   \n",
       "ship_mode            Standard Class            Standard Class   \n",
       "customer_id                TB-11280                  JH-15985   \n",
       "customer_name       Toby Braunhardt               Joseph Holt   \n",
       "segment                    Consumer                  Consumer   \n",
       "city                    Constantine               Wagga Wagga   \n",
       "state                   Constantine           New South Wales   \n",
       "country                     Algeria                 Australia   \n",
       "postal_code                     NaN                       NaN   \n",
       "market                       Africa                      APAC   \n",
       "region                       Africa                   Oceania   \n",
       "product_id         OFF-TEN-10000025           OFF-SU-10000618   \n",
       "category            Office Supplies           Office Supplies   \n",
       "sub-category                Storage                  Supplies   \n",
       "product_name    Tenex Lockers, Blue  Acme Trimmer, High Speed   \n",
       "sales                         408.3                   120.366   \n",
       "quantity                          2                         3   \n",
       "discount                        0.0                       0.1   \n",
       "profit                       106.14                    36.036   \n",
       "shipping_cost                 35.46                      9.72   \n",
       "order_priority               Medium                    Medium   \n",
       "\n",
       "                                      2                            3  \\\n",
       "row_id                            48883                        11731   \n",
       "order_id                   HU-2011-1220              IT-2011-3647632   \n",
       "order_date          2011-01-01 00:00:00          2011-01-01 00:00:00   \n",
       "ship_date           2011-05-01 00:00:00          2011-05-01 00:00:00   \n",
       "ship_mode                  Second Class                 Second Class   \n",
       "customer_id                      AT-735                     EM-14140   \n",
       "customer_name             Annie Thurman                 Eugene Moren   \n",
       "segment                        Consumer                  Home Office   \n",
       "city                           Budapest                    Stockholm   \n",
       "state                          Budapest                    Stockholm   \n",
       "country                         Hungary                       Sweden   \n",
       "postal_code                         NaN                          NaN   \n",
       "market                             EMEA                           EU   \n",
       "region                             EMEA                        North   \n",
       "product_id             OFF-TEN-10001585              OFF-PA-10001492   \n",
       "category                Office Supplies              Office Supplies   \n",
       "sub-category                    Storage                        Paper   \n",
       "product_name    Tenex Box, Single Width  Enermax Note Cards, Premium   \n",
       "sales                             66.12                       44.865   \n",
       "quantity                              4                            3   \n",
       "discount                            0.0                          0.5   \n",
       "profit                            29.64                      -26.055   \n",
       "shipping_cost                      8.17                         4.82   \n",
       "order_priority                     High                         High   \n",
       "\n",
       "                                         4  \n",
       "row_id                               22255  \n",
       "order_id                     IN-2011-47883  \n",
       "order_date             2011-01-01 00:00:00  \n",
       "ship_date              2011-08-01 00:00:00  \n",
       "ship_mode                   Standard Class  \n",
       "customer_id                       JH-15985  \n",
       "customer_name                  Joseph Holt  \n",
       "segment                           Consumer  \n",
       "city                           Wagga Wagga  \n",
       "state                      New South Wales  \n",
       "country                          Australia  \n",
       "postal_code                            NaN  \n",
       "market                                APAC  \n",
       "region                             Oceania  \n",
       "product_id                 FUR-FU-10003447  \n",
       "category                         Furniture  \n",
       "sub-category                   Furnishings  \n",
       "product_name    Eldon Light Bulb, Duo Pack  \n",
       "sales                               113.67  \n",
       "quantity                                 5  \n",
       "discount                               0.1  \n",
       "profit                               37.77  \n",
       "shipping_cost                          4.7  \n",
       "order_priority                      Medium  "
      ]
     },
     "execution_count": 35,
     "metadata": {},
     "output_type": "execute_result"
    }
   ],
   "source": [
    "df = pd.read_parquet('data/2_preprocessed/preprocessed_sales.parquet')\n",
    "df.head().T"
   ]
  },
  {
   "cell_type": "code",
   "execution_count": 36,
   "id": "8d7a55bf-c9d1-4443-9a45-5310a498a6f1",
   "metadata": {},
   "outputs": [],
   "source": [
    "ts = df.groupby('order_date')['profit'].sum().sort_index()"
   ]
  },
  {
   "cell_type": "code",
   "execution_count": 37,
   "id": "ad2247e3-b796-4326-9af3-5559deeef452",
   "metadata": {},
   "outputs": [
    {
     "data": {
      "text/plain": [
       "<AxesSubplot:xlabel='order_date'>"
      ]
     },
     "execution_count": 37,
     "metadata": {},
     "output_type": "execute_result"
    },
    {
     "data": {
      "image/png": "[encoded data removed]",
      "text/plain": [
       "<Figure size 1800x360 with 1 Axes>"
      ]
     },
     "metadata": {
      "needs_background": "light"
     },
     "output_type": "display_data"
    }
   ],
   "source": [
    "ts.plot(figsize=(25, 5))"
   ]
  },
  {
   "cell_type": "code",
   "execution_count": 38,
   "id": "8fd73081-c3a1-4546-8a33-681628ff20fa",
   "metadata": {},
   "outputs": [
    {
     "data": {
      "text/plain": [
       "<AxesSubplot:xlabel='order_date'>"
      ]
     },
     "execution_count": 38,
     "metadata": {},
     "output_type": "execute_result"
    },
    {
     "data": {
      "image/png": "[encoded data removed]",
      "text/plain": [
       "<Figure size 1800x360 with 1 Axes>"
      ]
     },
     "metadata": {
      "needs_background": "light"
     },
     "output_type": "display_data"
    }
   ],
   "source": [
    "ts.resample('M').sum().plot(figsize=(25, 5))"
   ]
  },
  {
   "cell_type": "code",
   "execution_count": 39,
   "id": "433059fe-4dc9-4f32-84fd-36fc3a5a465d",
   "metadata": {},
   "outputs": [
    {
     "data": {
      "text/plain": [
       "<AxesSubplot:xlabel='order_date'>"
      ]
     },
     "execution_count": 39,
     "metadata": {},
     "output_type": "execute_result"
    },
    {
     "data": {
      "image/png": "[encoded data removed]",
      "text/plain": [
       "<Figure size 1800x360 with 1 Axes>"
      ]
     },
     "metadata": {
      "needs_background": "light"
     },
     "output_type": "display_data"
    }
   ],
   "source": [
    "ts.resample('Q').sum().plot(figsize=(25, 5))"
   ]
  },
  {
   "cell_type": "code",
   "execution_count": 40,
   "id": "b5bab348-267d-42ae-9626-56a71935cbcc",
   "metadata": {},
   "outputs": [
    {
     "data": {
      "text/plain": [
       "<AxesSubplot:xlabel='order_date'>"
      ]
     },
     "execution_count": 40,
     "metadata": {},
     "output_type": "execute_result"
    },
    {
     "data": {
      "image/png": "[encoded data removed]",
      "text/plain": [
       "<Figure size 1800x360 with 1 Axes>"
      ]
     },
     "metadata": {
      "needs_background": "light"
     },
     "output_type": "display_data"
    }
   ],
   "source": [
    "ts.resample('Y').sum().plot(figsize=(25, 5))"
   ]
  },
  {
   "cell_type": "code",
   "execution_count": 41,
   "id": "43f68159-209a-45aa-8ff1-ca8c05f99d27",
   "metadata": {},
   "outputs": [
    {
     "data": {
      "image/png": "[encoded data removed]",
      "text/plain": [
       "<Figure size 1440x360 with 4 Axes>"
      ]
     },
     "metadata": {
      "needs_background": "light"
     },
     "output_type": "display_data"
    }
   ],
   "source": [
    "seasonal_decompose(x=ts, model='additive', period=365).plot();"
   ]
  },
  {
   "cell_type": "markdown",
   "id": "2c40de01-0bac-4cd2-bb9b-35b3f8981deb",
   "metadata": {},
   "source": [
    "# Prophet"
   ]
  },
  {
   "cell_type": "code",
   "execution_count": 42,
   "id": "33950a18-6c4a-4bce-949f-1ba057c40c16",
   "metadata": {},
   "outputs": [
    {
     "data": {
      "text/html": [
       "<div>\n",
       "<style scoped>\n",
       "    .dataframe tbody tr th:only-of-type {\n",
       "        vertical-align: middle;\n",
       "    }\n",
       "\n",
       "    .dataframe tbody tr th {\n",
       "        vertical-align: top;\n",
       "    }\n",
       "\n",
       "    .dataframe thead th {\n",
       "        text-align: right;\n",
       "    }\n",
       "</style>\n",
       "<table border=\"1\" class=\"dataframe\">\n",
       "  <thead>\n",
       "    <tr style=\"text-align: right;\">\n",
       "      <th></th>\n",
       "      <th>ds</th>\n",
       "      <th>y</th>\n",
       "    </tr>\n",
       "  </thead>\n",
       "  <tbody>\n",
       "    <tr>\n",
       "      <th>0</th>\n",
       "      <td>2011-01-01</td>\n",
       "      <td>198.8730</td>\n",
       "    </tr>\n",
       "    <tr>\n",
       "      <th>1</th>\n",
       "      <td>2011-01-02</td>\n",
       "      <td>603.4736</td>\n",
       "    </tr>\n",
       "    <tr>\n",
       "      <th>2</th>\n",
       "      <td>2011-01-03</td>\n",
       "      <td>1905.1539</td>\n",
       "    </tr>\n",
       "    <tr>\n",
       "      <th>3</th>\n",
       "      <td>2011-01-04</td>\n",
       "      <td>-308.7874</td>\n",
       "    </tr>\n",
       "    <tr>\n",
       "      <th>4</th>\n",
       "      <td>2011-01-06</td>\n",
       "      <td>2460.2536</td>\n",
       "    </tr>\n",
       "  </tbody>\n",
       "</table>\n",
       "</div>"
      ],
      "text/plain": [
       "          ds          y\n",
       "0 2011-01-01   198.8730\n",
       "1 2011-01-02   603.4736\n",
       "2 2011-01-03  1905.1539\n",
       "3 2011-01-04  -308.7874\n",
       "4 2011-01-06  2460.2536"
      ]
     },
     "execution_count": 42,
     "metadata": {},
     "output_type": "execute_result"
    }
   ],
   "source": [
    "data = (ts\n",
    "         .to_frame()\n",
    "         .reset_index()\n",
    "         .rename(columns={'order_date': 'ds', 'profit': 'y'}))\n",
    "data.head()"
   ]
  },
  {
   "cell_type": "code",
   "execution_count": 43,
   "id": "cc7bb64d-45eb-4bfa-a0fe-338ea3e8541e",
   "metadata": {},
   "outputs": [
    {
     "data": {
      "text/html": [
       "<div>\n",
       "<style scoped>\n",
       "    .dataframe tbody tr th:only-of-type {\n",
       "        vertical-align: middle;\n",
       "    }\n",
       "\n",
       "    .dataframe tbody tr th {\n",
       "        vertical-align: top;\n",
       "    }\n",
       "\n",
       "    .dataframe thead th {\n",
       "        text-align: right;\n",
       "    }\n",
       "</style>\n",
       "<table border=\"1\" class=\"dataframe\">\n",
       "  <thead>\n",
       "    <tr style=\"text-align: right;\">\n",
       "      <th></th>\n",
       "      <th>ds</th>\n",
       "      <th>y</th>\n",
       "    </tr>\n",
       "  </thead>\n",
       "  <tbody>\n",
       "    <tr>\n",
       "      <th>1395</th>\n",
       "      <td>2014-11-27</td>\n",
       "      <td>2320.81980</td>\n",
       "    </tr>\n",
       "    <tr>\n",
       "      <th>1396</th>\n",
       "      <td>2014-11-28</td>\n",
       "      <td>140.18242</td>\n",
       "    </tr>\n",
       "    <tr>\n",
       "      <th>1397</th>\n",
       "      <td>2014-11-29</td>\n",
       "      <td>795.53720</td>\n",
       "    </tr>\n",
       "    <tr>\n",
       "      <th>1398</th>\n",
       "      <td>2014-11-30</td>\n",
       "      <td>124.14200</td>\n",
       "    </tr>\n",
       "    <tr>\n",
       "      <th>1399</th>\n",
       "      <td>2014-12-01</td>\n",
       "      <td>-16.28400</td>\n",
       "    </tr>\n",
       "  </tbody>\n",
       "</table>\n",
       "</div>"
      ],
      "text/plain": [
       "             ds           y\n",
       "1395 2014-11-27  2320.81980\n",
       "1396 2014-11-28   140.18242\n",
       "1397 2014-11-29   795.53720\n",
       "1398 2014-11-30   124.14200\n",
       "1399 2014-12-01   -16.28400"
      ]
     },
     "execution_count": 43,
     "metadata": {},
     "output_type": "execute_result"
    }
   ],
   "source": [
    "y_train = data[:-30]\n",
    "y_train.tail()"
   ]
  },
  {
   "cell_type": "code",
   "execution_count": 44,
   "id": "ab2ee271-74e7-48bc-8604-dc0e5e5172df",
   "metadata": {},
   "outputs": [
    {
     "data": {
      "text/html": [
       "<div>\n",
       "<style scoped>\n",
       "    .dataframe tbody tr th:only-of-type {\n",
       "        vertical-align: middle;\n",
       "    }\n",
       "\n",
       "    .dataframe tbody tr th {\n",
       "        vertical-align: top;\n",
       "    }\n",
       "\n",
       "    .dataframe thead th {\n",
       "        text-align: right;\n",
       "    }\n",
       "</style>\n",
       "<table border=\"1\" class=\"dataframe\">\n",
       "  <thead>\n",
       "    <tr style=\"text-align: right;\">\n",
       "      <th></th>\n",
       "      <th>ds</th>\n",
       "      <th>y</th>\n",
       "    </tr>\n",
       "  </thead>\n",
       "  <tbody>\n",
       "    <tr>\n",
       "      <th>1400</th>\n",
       "      <td>2014-12-02</td>\n",
       "      <td>2121.65540</td>\n",
       "    </tr>\n",
       "    <tr>\n",
       "      <th>1401</th>\n",
       "      <td>2014-12-03</td>\n",
       "      <td>598.27660</td>\n",
       "    </tr>\n",
       "    <tr>\n",
       "      <th>1402</th>\n",
       "      <td>2014-12-04</td>\n",
       "      <td>421.13000</td>\n",
       "    </tr>\n",
       "    <tr>\n",
       "      <th>1403</th>\n",
       "      <td>2014-12-05</td>\n",
       "      <td>-256.02130</td>\n",
       "    </tr>\n",
       "    <tr>\n",
       "      <th>1404</th>\n",
       "      <td>2014-12-06</td>\n",
       "      <td>1572.70816</td>\n",
       "    </tr>\n",
       "  </tbody>\n",
       "</table>\n",
       "</div>"
      ],
      "text/plain": [
       "             ds           y\n",
       "1400 2014-12-02  2121.65540\n",
       "1401 2014-12-03   598.27660\n",
       "1402 2014-12-04   421.13000\n",
       "1403 2014-12-05  -256.02130\n",
       "1404 2014-12-06  1572.70816"
      ]
     },
     "execution_count": 44,
     "metadata": {},
     "output_type": "execute_result"
    }
   ],
   "source": [
    "y_test = data[-30:]\n",
    "y_test.head()"
   ]
  },
  {
   "cell_type": "code",
   "execution_count": 45,
   "id": "43485b98-028e-48b4-9317-67e5dfdcd286",
   "metadata": {},
   "outputs": [
    {
     "name": "stderr",
     "output_type": "stream",
     "text": [
      "INFO:prophet:Disabling daily seasonality. Run prophet with daily_seasonality=True to override this.\n"
     ]
    },
    {
     "data": {
      "text/plain": [
       "<prophet.forecaster.Prophet at 0x7f47993377f0>"
      ]
     },
     "execution_count": 45,
     "metadata": {},
     "output_type": "execute_result"
    }
   ],
   "source": [
    "model = Prophet()\n",
    "model.fit(y_train)"
   ]
  },
  {
   "cell_type": "code",
   "execution_count": 46,
   "id": "15bdb1f8-9b12-4480-92f1-bea143a09666",
   "metadata": {},
   "outputs": [
    {
     "data": {
      "text/html": [
       "<div>\n",
       "<style scoped>\n",
       "    .dataframe tbody tr th:only-of-type {\n",
       "        vertical-align: middle;\n",
       "    }\n",
       "\n",
       "    .dataframe tbody tr th {\n",
       "        vertical-align: top;\n",
       "    }\n",
       "\n",
       "    .dataframe thead th {\n",
       "        text-align: right;\n",
       "    }\n",
       "</style>\n",
       "<table border=\"1\" class=\"dataframe\">\n",
       "  <thead>\n",
       "    <tr style=\"text-align: right;\">\n",
       "      <th></th>\n",
       "      <th>ds</th>\n",
       "      <th>trend</th>\n",
       "      <th>yhat_lower</th>\n",
       "      <th>yhat_upper</th>\n",
       "      <th>trend_lower</th>\n",
       "      <th>trend_upper</th>\n",
       "      <th>additive_terms</th>\n",
       "      <th>additive_terms_lower</th>\n",
       "      <th>additive_terms_upper</th>\n",
       "      <th>weekly</th>\n",
       "      <th>weekly_lower</th>\n",
       "      <th>weekly_upper</th>\n",
       "      <th>yearly</th>\n",
       "      <th>yearly_lower</th>\n",
       "      <th>yearly_upper</th>\n",
       "      <th>multiplicative_terms</th>\n",
       "      <th>multiplicative_terms_lower</th>\n",
       "      <th>multiplicative_terms_upper</th>\n",
       "      <th>yhat</th>\n",
       "    </tr>\n",
       "  </thead>\n",
       "  <tbody>\n",
       "    <tr>\n",
       "      <th>0</th>\n",
       "      <td>2011-01-01</td>\n",
       "      <td>561.033896</td>\n",
       "      <td>-1016.671135</td>\n",
       "      <td>2236.048705</td>\n",
       "      <td>561.033896</td>\n",
       "      <td>561.033896</td>\n",
       "      <td>-16.500008</td>\n",
       "      <td>-16.500008</td>\n",
       "      <td>-16.500008</td>\n",
       "      <td>-145.748625</td>\n",
       "      <td>-145.748625</td>\n",
       "      <td>-145.748625</td>\n",
       "      <td>129.248617</td>\n",
       "      <td>129.248617</td>\n",
       "      <td>129.248617</td>\n",
       "      <td>0.0</td>\n",
       "      <td>0.0</td>\n",
       "      <td>0.0</td>\n",
       "      <td>544.533888</td>\n",
       "    </tr>\n",
       "    <tr>\n",
       "      <th>1</th>\n",
       "      <td>2011-01-02</td>\n",
       "      <td>561.641179</td>\n",
       "      <td>-1337.114798</td>\n",
       "      <td>1728.377395</td>\n",
       "      <td>561.641179</td>\n",
       "      <td>561.641179</td>\n",
       "      <td>-356.547072</td>\n",
       "      <td>-356.547072</td>\n",
       "      <td>-356.547072</td>\n",
       "      <td>-466.853724</td>\n",
       "      <td>-466.853724</td>\n",
       "      <td>-466.853724</td>\n",
       "      <td>110.306653</td>\n",
       "      <td>110.306653</td>\n",
       "      <td>110.306653</td>\n",
       "      <td>0.0</td>\n",
       "      <td>0.0</td>\n",
       "      <td>0.0</td>\n",
       "      <td>205.094108</td>\n",
       "    </tr>\n",
       "    <tr>\n",
       "      <th>2</th>\n",
       "      <td>2011-01-03</td>\n",
       "      <td>562.248463</td>\n",
       "      <td>-746.999637</td>\n",
       "      <td>2467.421555</td>\n",
       "      <td>562.248463</td>\n",
       "      <td>562.248463</td>\n",
       "      <td>268.461971</td>\n",
       "      <td>268.461971</td>\n",
       "      <td>268.461971</td>\n",
       "      <td>178.835091</td>\n",
       "      <td>178.835091</td>\n",
       "      <td>178.835091</td>\n",
       "      <td>89.626879</td>\n",
       "      <td>89.626879</td>\n",
       "      <td>89.626879</td>\n",
       "      <td>0.0</td>\n",
       "      <td>0.0</td>\n",
       "      <td>0.0</td>\n",
       "      <td>830.710434</td>\n",
       "    </tr>\n",
       "    <tr>\n",
       "      <th>3</th>\n",
       "      <td>2011-01-04</td>\n",
       "      <td>562.855747</td>\n",
       "      <td>-765.289654</td>\n",
       "      <td>2461.653256</td>\n",
       "      <td>562.855747</td>\n",
       "      <td>562.855747</td>\n",
       "      <td>232.271523</td>\n",
       "      <td>232.271523</td>\n",
       "      <td>232.271523</td>\n",
       "      <td>164.806593</td>\n",
       "      <td>164.806593</td>\n",
       "      <td>164.806593</td>\n",
       "      <td>67.464930</td>\n",
       "      <td>67.464930</td>\n",
       "      <td>67.464930</td>\n",
       "      <td>0.0</td>\n",
       "      <td>0.0</td>\n",
       "      <td>0.0</td>\n",
       "      <td>795.127271</td>\n",
       "    </tr>\n",
       "    <tr>\n",
       "      <th>4</th>\n",
       "      <td>2011-01-06</td>\n",
       "      <td>564.070315</td>\n",
       "      <td>-917.433480</td>\n",
       "      <td>2368.262800</td>\n",
       "      <td>564.070315</td>\n",
       "      <td>564.070315</td>\n",
       "      <td>134.750086</td>\n",
       "      <td>134.750086</td>\n",
       "      <td>134.750086</td>\n",
       "      <td>114.792244</td>\n",
       "      <td>114.792244</td>\n",
       "      <td>114.792244</td>\n",
       "      <td>19.957843</td>\n",
       "      <td>19.957843</td>\n",
       "      <td>19.957843</td>\n",
       "      <td>0.0</td>\n",
       "      <td>0.0</td>\n",
       "      <td>0.0</td>\n",
       "      <td>698.820402</td>\n",
       "    </tr>\n",
       "  </tbody>\n",
       "</table>\n",
       "</div>"
      ],
      "text/plain": [
       "          ds       trend   yhat_lower   yhat_upper  trend_lower  trend_upper  \\\n",
       "0 2011-01-01  561.033896 -1016.671135  2236.048705   561.033896   561.033896   \n",
       "1 2011-01-02  561.641179 -1337.114798  1728.377395   561.641179   561.641179   \n",
       "2 2011-01-03  562.248463  -746.999637  2467.421555   562.248463   562.248463   \n",
       "3 2011-01-04  562.855747  -765.289654  2461.653256   562.855747   562.855747   \n",
       "4 2011-01-06  564.070315  -917.433480  2368.262800   564.070315   564.070315   \n",
       "\n",
       "   additive_terms  additive_terms_lower  additive_terms_upper      weekly  \\\n",
       "0      -16.500008            -16.500008            -16.500008 -145.748625   \n",
       "1     -356.547072           -356.547072           -356.547072 -466.853724   \n",
       "2      268.461971            268.461971            268.461971  178.835091   \n",
       "3      232.271523            232.271523            232.271523  164.806593   \n",
       "4      134.750086            134.750086            134.750086  114.792244   \n",
       "\n",
       "   weekly_lower  weekly_upper      yearly  yearly_lower  yearly_upper  \\\n",
       "0   -145.748625   -145.748625  129.248617    129.248617    129.248617   \n",
       "1   -466.853724   -466.853724  110.306653    110.306653    110.306653   \n",
       "2    178.835091    178.835091   89.626879     89.626879     89.626879   \n",
       "3    164.806593    164.806593   67.464930     67.464930     67.464930   \n",
       "4    114.792244    114.792244   19.957843     19.957843     19.957843   \n",
       "\n",
       "   multiplicative_terms  multiplicative_terms_lower  \\\n",
       "0                   0.0                         0.0   \n",
       "1                   0.0                         0.0   \n",
       "2                   0.0                         0.0   \n",
       "3                   0.0                         0.0   \n",
       "4                   0.0                         0.0   \n",
       "\n",
       "   multiplicative_terms_upper        yhat  \n",
       "0                         0.0  544.533888  \n",
       "1                         0.0  205.094108  \n",
       "2                         0.0  830.710434  \n",
       "3                         0.0  795.127271  \n",
       "4                         0.0  698.820402  "
      ]
     },
     "execution_count": 46,
     "metadata": {},
     "output_type": "execute_result"
    }
   ],
   "source": [
    "future = model.make_future_dataframe(periods=len(y_test))\n",
    "\n",
    "forecast = model.predict(future)\n",
    "forecast.head()"
   ]
  },
  {
   "cell_type": "code",
   "execution_count": 47,
   "id": "27e316e1-e890-48df-9bbe-3f9746990cfb",
   "metadata": {},
   "outputs": [
    {
     "data": {
      "image/png": "[encoded data removed]",
      "text/plain": [
       "<Figure size 720x432 with 1 Axes>"
      ]
     },
     "metadata": {},
     "output_type": "display_data"
    }
   ],
   "source": [
    "model.plot(forecast);"
   ]
  },
  {
   "cell_type": "code",
   "execution_count": 48,
   "id": "689f11a5-bb2b-41e7-bfb6-9896cae90c36",
   "metadata": {},
   "outputs": [
    {
     "data": {
      "image/png": "[encoded data removed]",
      "text/plain": [
       "<Figure size 648x648 with 3 Axes>"
      ]
     },
     "metadata": {},
     "output_type": "display_data"
    }
   ],
   "source": [
    "model.plot_components(forecast);"
   ]
  },
  {
   "cell_type": "markdown",
   "id": "26d4b377-4ae8-4303-95e8-8be0b0f27bc6",
   "metadata": {},
   "source": [
    "# Model evaluation"
   ]
  },
  {
   "cell_type": "code",
   "execution_count": 49,
   "id": "4b7b1a82-f5d7-4682-8a9a-942456afd4fa",
   "metadata": {},
   "outputs": [],
   "source": [
    "forecast_data = forecast.set_index('ds').loc[:, ['yhat', 'yhat_lower', 'yhat_upper']]\n",
    "forecast_data = forecast_data.loc[(forecast_data.index >= y_test['ds'].min()) & (forecast_data.index <= y_test['ds'].max()), ['yhat', 'yhat_lower', 'yhat_upper']]"
   ]
  },
  {
   "cell_type": "code",
   "execution_count": 50,
   "id": "603c86ff-c2f6-4d06-9566-26ee4d6528ee",
   "metadata": {},
   "outputs": [
    {
     "data": {
      "application/vnd.plotly.v1+json": {
       "config": {
        "plotlyServerURL": "https://plot.ly"
       },
       "data": [
        {
         "line": {
          "color": "rgb(186, 39, 32)"
         },
         "mode": "lines",
         "name": "Real",
         "type": "scatter",
         "x": [
          "2014-12-02T00:00:00",
          "2014-12-03T00:00:00",
          "2014-12-04T00:00:00",
          "2014-12-05T00:00:00",
          "2014-12-06T00:00:00",
          "2014-12-07T00:00:00",
          "2014-12-08T00:00:00",
          "2014-12-09T00:00:00",
          "2014-12-10T00:00:00",
          "2014-12-11T00:00:00",
          "2014-12-12T00:00:00",
          "2014-12-13T00:00:00",
          "2014-12-14T00:00:00",
          "2014-12-15T00:00:00",
          "2014-12-16T00:00:00",
          "2014-12-17T00:00:00",
          "2014-12-18T00:00:00",
          "2014-12-19T00:00:00",
          "2014-12-20T00:00:00",
          "2014-12-21T00:00:00",
          "2014-12-22T00:00:00",
          "2014-12-23T00:00:00",
          "2014-12-24T00:00:00",
          "2014-12-25T00:00:00",
          "2014-12-26T00:00:00",
          "2014-12-27T00:00:00",
          "2014-12-28T00:00:00",
          "2014-12-29T00:00:00",
          "2014-12-30T00:00:00",
          "2014-12-31T00:00:00"
         ],
         "y": [
          2121.6554,
          598.2765999999998,
          421.13000000000005,
          -256.02130000000005,
          1572.7081600000004,
          1373.4180000000001,
          1474.1161400000005,
          3427.615340000001,
          772.8969999999999,
          6438.502079999998,
          1082.345,
          1371.7902599999998,
          172.64339999999999,
          886.8920000000002,
          1780.6695,
          687.2661000000002,
          1897.8825000000002,
          3959.8848000000007,
          -98.51540000000006,
          160.83150000000003,
          1851.6364999999998,
          3955.7192000000014,
          3788.0664999999995,
          4548.171080000001,
          162.65769999999938,
          -916.6400399999997,
          81.06379999999997,
          2046.2067799999988,
          2554.0045999999998,
          1020.1708
         ]
        },
        {
         "line": {
          "color": "rgb(31, 119, 180)"
         },
         "mode": "lines",
         "name": "Forecast",
         "type": "scatter",
         "x": [
          "2014-12-02T00:00:00",
          "2014-12-03T00:00:00",
          "2014-12-04T00:00:00",
          "2014-12-05T00:00:00",
          "2014-12-06T00:00:00",
          "2014-12-07T00:00:00",
          "2014-12-08T00:00:00",
          "2014-12-09T00:00:00",
          "2014-12-10T00:00:00",
          "2014-12-11T00:00:00",
          "2014-12-12T00:00:00",
          "2014-12-13T00:00:00",
          "2014-12-14T00:00:00",
          "2014-12-15T00:00:00",
          "2014-12-16T00:00:00",
          "2014-12-17T00:00:00",
          "2014-12-18T00:00:00",
          "2014-12-19T00:00:00",
          "2014-12-20T00:00:00",
          "2014-12-21T00:00:00",
          "2014-12-22T00:00:00",
          "2014-12-23T00:00:00",
          "2014-12-24T00:00:00",
          "2014-12-25T00:00:00",
          "2014-12-26T00:00:00",
          "2014-12-27T00:00:00",
          "2014-12-28T00:00:00",
          "2014-12-29T00:00:00",
          "2014-12-30T00:00:00",
          "2014-12-31T00:00:00"
         ],
         "y": [
          1907.7003823090274,
          1718.7240015904372,
          1845.1669829917007,
          1896.2838345210293,
          1572.4619982027712,
          1245.8867450217635,
          1886.7397836409264,
          1868.6501886232463,
          1682.7014360715675,
          1813.2410925716583,
          1869.358351493564,
          1551.238264452085,
          1230.8322698999987,
          1878.0636288645753,
          1866.2861758596273,
          1686.299939958017,
          1822.1699207665285,
          1882.7129318910902,
          1567.861066532074,
          1249.3410914157184,
          1896.8880899195665,
          1883.711489064578,
          1700.5167764761743,
          1831.3289757686136,
          1884.9826163551538,
          1561.4866214718018,
          1232.7033401172155,
          1868.5600168238643,
          1842.5108620424085,
          1645.5531123558044
         ]
        },
        {
         "line": {
          "width": 0
         },
         "marker": {
          "color": "#444"
         },
         "mode": "lines",
         "name": "Upper Bound",
         "showlegend": false,
         "type": "scatter",
         "x": [
          "2014-12-02T00:00:00",
          "2014-12-03T00:00:00",
          "2014-12-04T00:00:00",
          "2014-12-05T00:00:00",
          "2014-12-06T00:00:00",
          "2014-12-07T00:00:00",
          "2014-12-08T00:00:00",
          "2014-12-09T00:00:00",
          "2014-12-10T00:00:00",
          "2014-12-11T00:00:00",
          "2014-12-12T00:00:00",
          "2014-12-13T00:00:00",
          "2014-12-14T00:00:00",
          "2014-12-15T00:00:00",
          "2014-12-16T00:00:00",
          "2014-12-17T00:00:00",
          "2014-12-18T00:00:00",
          "2014-12-19T00:00:00",
          "2014-12-20T00:00:00",
          "2014-12-21T00:00:00",
          "2014-12-22T00:00:00",
          "2014-12-23T00:00:00",
          "2014-12-24T00:00:00",
          "2014-12-25T00:00:00",
          "2014-12-26T00:00:00",
          "2014-12-27T00:00:00",
          "2014-12-28T00:00:00",
          "2014-12-29T00:00:00",
          "2014-12-30T00:00:00",
          "2014-12-31T00:00:00"
         ],
         "y": [
          3480.4586591984103,
          3320.610971027298,
          3460.264708639675,
          3514.0018270614546,
          3177.162611183727,
          2951.4808864674956,
          3590.3626557979246,
          3410.975804151961,
          3270.7306652445886,
          3459.5180489331506,
          3412.5653150286275,
          3120.964755598433,
          2794.5557392952023,
          3433.8610720756383,
          3613.0324927672245,
          3244.4643173781246,
          3430.2839451660698,
          3431.938417936845,
          3173.345555665454,
          2851.7577894145634,
          3573.2307961325446,
          3452.003036516147,
          3266.4873251237086,
          3313.5662865927115,
          3442.4124936260055,
          3227.083082854189,
          2824.938642604874,
          3483.1938982523307,
          3361.3577251615034,
          3133.7802306535123
         ]
        },
        {
         "fill": "tonexty",
         "fillcolor": "rgba(68, 68, 68, 0.3)",
         "line": {
          "width": 0
         },
         "marker": {
          "color": "#444"
         },
         "mode": "lines",
         "name": "Lower Bound",
         "showlegend": false,
         "type": "scatter",
         "x": [
          "2014-12-02T00:00:00",
          "2014-12-03T00:00:00",
          "2014-12-04T00:00:00",
          "2014-12-05T00:00:00",
          "2014-12-06T00:00:00",
          "2014-12-07T00:00:00",
          "2014-12-08T00:00:00",
          "2014-12-09T00:00:00",
          "2014-12-10T00:00:00",
          "2014-12-11T00:00:00",
          "2014-12-12T00:00:00",
          "2014-12-13T00:00:00",
          "2014-12-14T00:00:00",
          "2014-12-15T00:00:00",
          "2014-12-16T00:00:00",
          "2014-12-17T00:00:00",
          "2014-12-18T00:00:00",
          "2014-12-19T00:00:00",
          "2014-12-20T00:00:00",
          "2014-12-21T00:00:00",
          "2014-12-22T00:00:00",
          "2014-12-23T00:00:00",
          "2014-12-24T00:00:00",
          "2014-12-25T00:00:00",
          "2014-12-26T00:00:00",
          "2014-12-27T00:00:00",
          "2014-12-28T00:00:00",
          "2014-12-29T00:00:00",
          "2014-12-30T00:00:00",
          "2014-12-31T00:00:00"
         ],
         "y": [
          331.61193315163973,
          179.6310069018746,
          219.8634737530985,
          324.8231019691518,
          27.180776265976284,
          -362.82744675314257,
          353.31500873532013,
          284.02280352196016,
          81.07526816324363,
          243.35434725534,
          359.25732517695195,
          -16.41677798348219,
          -298.1375633133518,
          298.32410682042604,
          182.46811652866435,
          168.38640596926112,
          247.34555327331776,
          299.1143687035477,
          -30.211294139221927,
          -324.67432574511366,
          366.62531123040884,
          283.98196374143515,
          122.77444297243473,
          287.214904011544,
          300.017528284533,
          -26.768787348872088,
          -306.60458597656356,
          323.6118104458978,
          224.12188873672685,
          156.04166033650938
         ]
        }
       ],
       "layout": {
        "autosize": true,
        "hovermode": "x",
        "template": {
         "data": {
          "bar": [
           {
            "error_x": {
             "color": "#2a3f5f"
            },
            "error_y": {
             "color": "#2a3f5f"
            },
            "marker": {
             "line": {
              "color": "#E5ECF6",
              "width": 0.5
             }
            },
            "type": "bar"
           }
          ],
          "barpolar": [
           {
            "marker": {
             "line": {
              "color": "#E5ECF6",
              "width": 0.5
             }
            },
            "type": "barpolar"
           }
          ],
          "carpet": [
           {
            "aaxis": {
             "endlinecolor": "#2a3f5f",
             "gridcolor": "white",
             "linecolor": "white",
             "minorgridcolor": "white",
             "startlinecolor": "#2a3f5f"
            },
            "baxis": {
             "endlinecolor": "#2a3f5f",
             "gridcolor": "white",
             "linecolor": "white",
             "minorgridcolor": "white",
             "startlinecolor": "#2a3f5f"
            },
            "type": "carpet"
           }
          ],
          "choropleth": [
           {
            "colorbar": {
             "outlinewidth": 0,
             "ticks": ""
            },
            "type": "choropleth"
           }
          ],
          "contour": [
           {
            "colorbar": {
             "outlinewidth": 0,
             "ticks": ""
            },
            "colorscale": [
             [
              0,
              "#0d0887"
             ],
             [
              0.1111111111111111,
              "#46039f"
             ],
             [
              0.2222222222222222,
              "#7201a8"
             ],
             [
              0.3333333333333333,
              "#9c179e"
             ],
             [
              0.4444444444444444,
              "#bd3786"
             ],
             [
              0.5555555555555556,
              "#d8576b"
             ],
             [
              0.6666666666666666,
              "#ed7953"
             ],
             [
              0.7777777777777778,
              "#fb9f3a"
             ],
             [
              0.8888888888888888,
              "#fdca26"
             ],
             [
              1,
              "#f0f921"
             ]
            ],
            "type": "contour"
           }
          ],
          "contourcarpet": [
           {
            "colorbar": {
             "outlinewidth": 0,
             "ticks": ""
            },
            "type": "contourcarpet"
           }
          ],
          "heatmap": [
           {
            "colorbar": {
             "outlinewidth": 0,
             "ticks": ""
            },
            "colorscale": [
             [
              0,
              "#0d0887"
             ],
             [
              0.1111111111111111,
              "#46039f"
             ],
             [
              0.2222222222222222,
              "#7201a8"
             ],
             [
              0.3333333333333333,
              "#9c179e"
             ],
             [
              0.4444444444444444,
              "#bd3786"
             ],
             [
              0.5555555555555556,
              "#d8576b"
             ],
             [
              0.6666666666666666,
              "#ed7953"
             ],
             [
              0.7777777777777778,
              "#fb9f3a"
             ],
             [
              0.8888888888888888,
              "#fdca26"
             ],
             [
              1,
              "#f0f921"
             ]
            ],
            "type": "heatmap"
           }
          ],
          "heatmapgl": [
           {
            "colorbar": {
             "outlinewidth": 0,
             "ticks": ""
            },
            "colorscale": [
             [
              0,
              "#0d0887"
             ],
             [
              0.1111111111111111,
              "#46039f"
             ],
             [
              0.2222222222222222,
              "#7201a8"
             ],
             [
              0.3333333333333333,
              "#9c179e"
             ],
             [
              0.4444444444444444,
              "#bd3786"
             ],
             [
              0.5555555555555556,
              "#d8576b"
             ],
             [
              0.6666666666666666,
              "#ed7953"
             ],
             [
              0.7777777777777778,
              "#fb9f3a"
             ],
             [
              0.8888888888888888,
              "#fdca26"
             ],
             [
              1,
              "#f0f921"
             ]
            ],
            "type": "heatmapgl"
           }
          ],
          "histogram": [
           {
            "marker": {
             "colorbar": {
              "outlinewidth": 0,
              "ticks": ""
             }
            },
            "type": "histogram"
           }
          ],
          "histogram2d": [
           {
            "colorbar": {
             "outlinewidth": 0,
             "ticks": ""
            },
            "colorscale": [
             [
              0,
              "#0d0887"
             ],
             [
              0.1111111111111111,
              "#46039f"
             ],
             [
              0.2222222222222222,
              "#7201a8"
             ],
             [
              0.3333333333333333,
              "#9c179e"
             ],
             [
              0.4444444444444444,
              "#bd3786"
             ],
             [
              0.5555555555555556,
              "#d8576b"
             ],
             [
              0.6666666666666666,
              "#ed7953"
             ],
             [
              0.7777777777777778,
              "#fb9f3a"
             ],
             [
              0.8888888888888888,
              "#fdca26"
             ],
             [
              1,
              "#f0f921"
             ]
            ],
            "type": "histogram2d"
           }
          ],
          "histogram2dcontour": [
           {
            "colorbar": {
             "outlinewidth": 0,
             "ticks": ""
            },
            "colorscale": [
             [
              0,
              "#0d0887"
             ],
             [
              0.1111111111111111,
              "#46039f"
             ],
             [
              0.2222222222222222,
              "#7201a8"
             ],
             [
              0.3333333333333333,
              "#9c179e"
             ],
             [
              0.4444444444444444,
              "#bd3786"
             ],
             [
              0.5555555555555556,
              "#d8576b"
             ],
             [
              0.6666666666666666,
              "#ed7953"
             ],
             [
              0.7777777777777778,
              "#fb9f3a"
             ],
             [
              0.8888888888888888,
              "#fdca26"
             ],
             [
              1,
              "#f0f921"
             ]
            ],
            "type": "histogram2dcontour"
           }
          ],
          "mesh3d": [
           {
            "colorbar": {
             "outlinewidth": 0,
             "ticks": ""
            },
            "type": "mesh3d"
           }
          ],
          "parcoords": [
           {
            "line": {
             "colorbar": {
              "outlinewidth": 0,
              "ticks": ""
             }
            },
            "type": "parcoords"
           }
          ],
          "pie": [
           {
            "automargin": true,
            "type": "pie"
           }
          ],
          "scatter": [
           {
            "marker": {
             "colorbar": {
              "outlinewidth": 0,
              "ticks": ""
             }
            },
            "type": "scatter"
           }
          ],
          "scatter3d": [
           {
            "line": {
             "colorbar": {
              "outlinewidth": 0,
              "ticks": ""
             }
            },
            "marker": {
             "colorbar": {
              "outlinewidth": 0,
              "ticks": ""
             }
            },
            "type": "scatter3d"
           }
          ],
          "scattercarpet": [
           {
            "marker": {
             "colorbar": {
              "outlinewidth": 0,
              "ticks": ""
             }
            },
            "type": "scattercarpet"
           }
          ],
          "scattergeo": [
           {
            "marker": {
             "colorbar": {
              "outlinewidth": 0,
              "ticks": ""
             }
            },
            "type": "scattergeo"
           }
          ],
          "scattergl": [
           {
            "marker": {
             "colorbar": {
              "outlinewidth": 0,
              "ticks": ""
             }
            },
            "type": "scattergl"
           }
          ],
          "scattermapbox": [
           {
            "marker": {
             "colorbar": {
              "outlinewidth": 0,
              "ticks": ""
             }
            },
            "type": "scattermapbox"
           }
          ],
          "scatterpolar": [
           {
            "marker": {
             "colorbar": {
              "outlinewidth": 0,
              "ticks": ""
             }
            },
            "type": "scatterpolar"
           }
          ],
          "scatterpolargl": [
           {
            "marker": {
             "colorbar": {
              "outlinewidth": 0,
              "ticks": ""
             }
            },
            "type": "scatterpolargl"
           }
          ],
          "scatterternary": [
           {
            "marker": {
             "colorbar": {
              "outlinewidth": 0,
              "ticks": ""
             }
            },
            "type": "scatterternary"
           }
          ],
          "surface": [
           {
            "colorbar": {
             "outlinewidth": 0,
             "ticks": ""
            },
            "colorscale": [
             [
              0,
              "#0d0887"
             ],
             [
              0.1111111111111111,
              "#46039f"
             ],
             [
              0.2222222222222222,
              "#7201a8"
             ],
             [
              0.3333333333333333,
              "#9c179e"
             ],
             [
              0.4444444444444444,
              "#bd3786"
             ],
             [
              0.5555555555555556,
              "#d8576b"
             ],
             [
              0.6666666666666666,
              "#ed7953"
             ],
             [
              0.7777777777777778,
              "#fb9f3a"
             ],
             [
              0.8888888888888888,
              "#fdca26"
             ],
             [
              1,
              "#f0f921"
             ]
            ],
            "type": "surface"
           }
          ],
          "table": [
           {
            "cells": {
             "fill": {
              "color": "#EBF0F8"
             },
             "line": {
              "color": "white"
             }
            },
            "header": {
             "fill": {
              "color": "#C8D4E3"
             },
             "line": {
              "color": "white"
             }
            },
            "type": "table"
           }
          ]
         },
         "layout": {
          "annotationdefaults": {
           "arrowcolor": "#2a3f5f",
           "arrowhead": 0,
           "arrowwidth": 1
          },
          "autotypenumbers": "strict",
          "coloraxis": {
           "colorbar": {
            "outlinewidth": 0,
            "ticks": ""
           }
          },
          "colorscale": {
           "diverging": [
            [
             0,
             "#8e0152"
            ],
            [
             0.1,
             "#c51b7d"
            ],
            [
             0.2,
             "#de77ae"
            ],
            [
             0.3,
             "#f1b6da"
            ],
            [
             0.4,
             "#fde0ef"
            ],
            [
             0.5,
             "#f7f7f7"
            ],
            [
             0.6,
             "#e6f5d0"
            ],
            [
             0.7,
             "#b8e186"
            ],
            [
             0.8,
             "#7fbc41"
            ],
            [
             0.9,
             "#4d9221"
            ],
            [
             1,
             "#276419"
            ]
           ],
           "sequential": [
            [
             0,
             "#0d0887"
            ],
            [
             0.1111111111111111,
             "#46039f"
            ],
            [
             0.2222222222222222,
             "#7201a8"
            ],
            [
             0.3333333333333333,
             "#9c179e"
            ],
            [
             0.4444444444444444,
             "#bd3786"
            ],
            [
             0.5555555555555556,
             "#d8576b"
            ],
            [
             0.6666666666666666,
             "#ed7953"
            ],
            [
             0.7777777777777778,
             "#fb9f3a"
            ],
            [
             0.8888888888888888,
             "#fdca26"
            ],
            [
             1,
             "#f0f921"
            ]
           ],
           "sequentialminus": [
            [
             0,
             "#0d0887"
            ],
            [
             0.1111111111111111,
             "#46039f"
            ],
            [
             0.2222222222222222,
             "#7201a8"
            ],
            [
             0.3333333333333333,
             "#9c179e"
            ],
            [
             0.4444444444444444,
             "#bd3786"
            ],
            [
             0.5555555555555556,
             "#d8576b"
            ],
            [
             0.6666666666666666,
             "#ed7953"
            ],
            [
             0.7777777777777778,
             "#fb9f3a"
            ],
            [
             0.8888888888888888,
             "#fdca26"
            ],
            [
             1,
             "#f0f921"
            ]
           ]
          },
          "colorway": [
           "#636efa",
           "#EF553B",
           "#00cc96",
           "#ab63fa",
           "#FFA15A",
           "#19d3f3",
           "#FF6692",
           "#B6E880",
           "#FF97FF",
           "#FECB52"
          ],
          "font": {
           "color": "#2a3f5f"
          },
          "geo": {
           "bgcolor": "white",
           "lakecolor": "white",
           "landcolor": "#E5ECF6",
           "showlakes": true,
           "showland": true,
           "subunitcolor": "white"
          },
          "hoverlabel": {
           "align": "left"
          },
          "hovermode": "closest",
          "mapbox": {
           "style": "light"
          },
          "paper_bgcolor": "white",
          "plot_bgcolor": "#E5ECF6",
          "polar": {
           "angularaxis": {
            "gridcolor": "white",
            "linecolor": "white",
            "ticks": ""
           },
           "bgcolor": "#E5ECF6",
           "radialaxis": {
            "gridcolor": "white",
            "linecolor": "white",
            "ticks": ""
           }
          },
          "scene": {
           "xaxis": {
            "backgroundcolor": "#E5ECF6",
            "gridcolor": "white",
            "gridwidth": 2,
            "linecolor": "white",
            "showbackground": true,
            "ticks": "",
            "zerolinecolor": "white"
           },
           "yaxis": {
            "backgroundcolor": "#E5ECF6",
            "gridcolor": "white",
            "gridwidth": 2,
            "linecolor": "white",
            "showbackground": true,
            "ticks": "",
            "zerolinecolor": "white"
           },
           "zaxis": {
            "backgroundcolor": "#E5ECF6",
            "gridcolor": "white",
            "gridwidth": 2,
            "linecolor": "white",
            "showbackground": true,
            "ticks": "",
            "zerolinecolor": "white"
           }
          },
          "shapedefaults": {
           "line": {
            "color": "#2a3f5f"
           }
          },
          "ternary": {
           "aaxis": {
            "gridcolor": "white",
            "linecolor": "white",
            "ticks": ""
           },
           "baxis": {
            "gridcolor": "white",
            "linecolor": "white",
            "ticks": ""
           },
           "bgcolor": "#E5ECF6",
           "caxis": {
            "gridcolor": "white",
            "linecolor": "white",
            "ticks": ""
           }
          },
          "title": {
           "x": 0.05
          },
          "xaxis": {
           "automargin": true,
           "gridcolor": "white",
           "linecolor": "white",
           "ticks": "",
           "title": {
            "standoff": 15
           },
           "zerolinecolor": "white",
           "zerolinewidth": 2
          },
          "yaxis": {
           "automargin": true,
           "gridcolor": "white",
           "linecolor": "white",
           "ticks": "",
           "title": {
            "standoff": 15
           },
           "zerolinecolor": "white",
           "zerolinewidth": 2
          }
         }
        },
        "xaxis": {
         "autorange": true,
         "range": [
          "2014-12-02",
          "2014-12-31"
         ],
         "type": "date"
        },
        "yaxis": {
         "autorange": true,
         "range": [
          -1325.259046666666,
          6847.121086666665
         ],
         "title": {
          "text": "Lucro"
         },
         "type": "linear"
        }
       }
      },
      "image/png": "[encoded data removed]",
      "text/html": [
       "<div>                            <div id=\"dbb1899e-66ed-4daf-8d64-971c22f1421b\" class=\"plotly-graph-div\" style=\"height:525px; width:100%;\"></div>            <script type=\"text/javascript\">                require([\"plotly\"], function(Plotly) {                    window.PLOTLYENV=window.PLOTLYENV || {};                                    if (document.getElementById(\"dbb1899e-66ed-4daf-8d64-971c22f1421b\")) {                    Plotly.newPlot(                        \"dbb1899e-66ed-4daf-8d64-971c22f1421b\",                        [{\"line\": {\"color\": \"rgb(186, 39, 32)\"}, \"mode\": \"lines\", \"name\": \"Real\", \"type\": \"scatter\", \"x\": [\"2014-12-02T00:00:00\", \"2014-12-03T00:00:00\", \"2014-12-04T00:00:00\", \"2014-12-05T00:00:00\", \"2014-12-06T00:00:00\", \"2014-12-07T00:00:00\", \"2014-12-08T00:00:00\", \"2014-12-09T00:00:00\", \"2014-12-10T00:00:00\", \"2014-12-11T00:00:00\", \"2014-12-12T00:00:00\", \"2014-12-13T00:00:00\", \"2014-12-14T00:00:00\", \"2014-12-15T00:00:00\", \"2014-12-16T00:00:00\", \"2014-12-17T00:00:00\", \"2014-12-18T00:00:00\", \"2014-12-19T00:00:00\", \"2014-12-20T00:00:00\", \"2014-12-21T00:00:00\", \"2014-12-22T00:00:00\", \"2014-12-23T00:00:00\", \"2014-12-24T00:00:00\", \"2014-12-25T00:00:00\", \"2014-12-26T00:00:00\", \"2014-12-27T00:00:00\", \"2014-12-28T00:00:00\", \"2014-12-29T00:00:00\", \"2014-12-30T00:00:00\", \"2014-12-31T00:00:00\"], \"y\": [2121.6554, 598.2765999999998, 421.13000000000005, -256.02130000000005, 1572.7081600000004, 1373.4180000000001, 1474.1161400000005, 3427.615340000001, 772.8969999999999, 6438.502079999998, 1082.345, 1371.7902599999998, 172.64339999999999, 886.8920000000002, 1780.6695, 687.2661000000002, 1897.8825000000002, 3959.8848000000007, -98.51540000000006, 160.83150000000003, 1851.6364999999998, 3955.7192000000014, 3788.0664999999995, 4548.171080000001, 162.65769999999938, -916.6400399999997, 81.06379999999997, 2046.2067799999988, 2554.0045999999998, 1020.1708]}, {\"line\": {\"color\": \"rgb(31, 119, 180)\"}, \"mode\": \"lines\", \"name\": \"Forecast\", \"type\": \"scatter\", \"x\": [\"2014-12-02T00:00:00\", \"2014-12-03T00:00:00\", \"2014-12-04T00:00:00\", \"2014-12-05T00:00:00\", \"2014-12-06T00:00:00\", \"2014-12-07T00:00:00\", \"2014-12-08T00:00:00\", \"2014-12-09T00:00:00\", \"2014-12-10T00:00:00\", \"2014-12-11T00:00:00\", \"2014-12-12T00:00:00\", \"2014-12-13T00:00:00\", \"2014-12-14T00:00:00\", \"2014-12-15T00:00:00\", \"2014-12-16T00:00:00\", \"2014-12-17T00:00:00\", \"2014-12-18T00:00:00\", \"2014-12-19T00:00:00\", \"2014-12-20T00:00:00\", \"2014-12-21T00:00:00\", \"2014-12-22T00:00:00\", \"2014-12-23T00:00:00\", \"2014-12-24T00:00:00\", \"2014-12-25T00:00:00\", \"2014-12-26T00:00:00\", \"2014-12-27T00:00:00\", \"2014-12-28T00:00:00\", \"2014-12-29T00:00:00\", \"2014-12-30T00:00:00\", \"2014-12-31T00:00:00\"], \"y\": [1907.7003823090274, 1718.7240015904372, 1845.1669829917007, 1896.2838345210293, 1572.4619982027712, 1245.8867450217635, 1886.7397836409264, 1868.6501886232463, 1682.7014360715675, 1813.2410925716583, 1869.358351493564, 1551.238264452085, 1230.8322698999987, 1878.0636288645753, 1866.2861758596273, 1686.299939958017, 1822.1699207665285, 1882.7129318910902, 1567.861066532074, 1249.3410914157184, 1896.8880899195665, 1883.711489064578, 1700.5167764761743, 1831.3289757686136, 1884.9826163551538, 1561.4866214718018, 1232.7033401172155, 1868.5600168238643, 1842.5108620424085, 1645.5531123558044]}, {\"line\": {\"width\": 0}, \"marker\": {\"color\": \"#444\"}, \"mode\": \"lines\", \"name\": \"Upper Bound\", \"showlegend\": false, \"type\": \"scatter\", \"x\": [\"2014-12-02T00:00:00\", \"2014-12-03T00:00:00\", \"2014-12-04T00:00:00\", \"2014-12-05T00:00:00\", \"2014-12-06T00:00:00\", \"2014-12-07T00:00:00\", \"2014-12-08T00:00:00\", \"2014-12-09T00:00:00\", \"2014-12-10T00:00:00\", \"2014-12-11T00:00:00\", \"2014-12-12T00:00:00\", \"2014-12-13T00:00:00\", \"2014-12-14T00:00:00\", \"2014-12-15T00:00:00\", \"2014-12-16T00:00:00\", \"2014-12-17T00:00:00\", \"2014-12-18T00:00:00\", \"2014-12-19T00:00:00\", \"2014-12-20T00:00:00\", \"2014-12-21T00:00:00\", \"2014-12-22T00:00:00\", \"2014-12-23T00:00:00\", \"2014-12-24T00:00:00\", \"2014-12-25T00:00:00\", \"2014-12-26T00:00:00\", \"2014-12-27T00:00:00\", \"2014-12-28T00:00:00\", \"2014-12-29T00:00:00\", \"2014-12-30T00:00:00\", \"2014-12-31T00:00:00\"], \"y\": [3480.4586591984103, 3320.610971027298, 3460.264708639675, 3514.0018270614546, 3177.162611183727, 2951.4808864674956, 3590.3626557979246, 3410.975804151961, 3270.7306652445886, 3459.5180489331506, 3412.5653150286275, 3120.964755598433, 2794.5557392952023, 3433.8610720756383, 3613.0324927672245, 3244.4643173781246, 3430.2839451660698, 3431.938417936845, 3173.345555665454, 2851.7577894145634, 3573.2307961325446, 3452.003036516147, 3266.4873251237086, 3313.5662865927115, 3442.4124936260055, 3227.083082854189, 2824.938642604874, 3483.1938982523307, 3361.3577251615034, 3133.7802306535123]}, {\"fill\": \"tonexty\", \"fillcolor\": \"rgba(68, 68, 68, 0.3)\", \"line\": {\"width\": 0}, \"marker\": {\"color\": \"#444\"}, \"mode\": \"lines\", \"name\": \"Lower Bound\", \"showlegend\": false, \"type\": \"scatter\", \"x\": [\"2014-12-02T00:00:00\", \"2014-12-03T00:00:00\", \"2014-12-04T00:00:00\", \"2014-12-05T00:00:00\", \"2014-12-06T00:00:00\", \"2014-12-07T00:00:00\", \"2014-12-08T00:00:00\", \"2014-12-09T00:00:00\", \"2014-12-10T00:00:00\", \"2014-12-11T00:00:00\", \"2014-12-12T00:00:00\", \"2014-12-13T00:00:00\", \"2014-12-14T00:00:00\", \"2014-12-15T00:00:00\", \"2014-12-16T00:00:00\", \"2014-12-17T00:00:00\", \"2014-12-18T00:00:00\", \"2014-12-19T00:00:00\", \"2014-12-20T00:00:00\", \"2014-12-21T00:00:00\", \"2014-12-22T00:00:00\", \"2014-12-23T00:00:00\", \"2014-12-24T00:00:00\", \"2014-12-25T00:00:00\", \"2014-12-26T00:00:00\", \"2014-12-27T00:00:00\", \"2014-12-28T00:00:00\", \"2014-12-29T00:00:00\", \"2014-12-30T00:00:00\", \"2014-12-31T00:00:00\"], \"y\": [331.61193315163973, 179.6310069018746, 219.8634737530985, 324.8231019691518, 27.180776265976284, -362.82744675314257, 353.31500873532013, 284.02280352196016, 81.07526816324363, 243.35434725534, 359.25732517695195, -16.41677798348219, -298.1375633133518, 298.32410682042604, 182.46811652866435, 168.38640596926112, 247.34555327331776, 299.1143687035477, -30.211294139221927, -324.67432574511366, 366.62531123040884, 283.98196374143515, 122.77444297243473, 287.214904011544, 300.017528284533, -26.768787348872088, -306.60458597656356, 323.6118104458978, 224.12188873672685, 156.04166033650938]}],                        {\"hovermode\": \"x\", \"template\": {\"data\": {\"bar\": [{\"error_x\": {\"color\": \"#2a3f5f\"}, \"error_y\": {\"color\": \"#2a3f5f\"}, \"marker\": {\"line\": {\"color\": \"#E5ECF6\", \"width\": 0.5}}, \"type\": \"bar\"}], \"barpolar\": [{\"marker\": {\"line\": {\"color\": \"#E5ECF6\", \"width\": 0.5}}, \"type\": \"barpolar\"}], \"carpet\": [{\"aaxis\": {\"endlinecolor\": \"#2a3f5f\", \"gridcolor\": \"white\", \"linecolor\": \"white\", \"minorgridcolor\": \"white\", \"startlinecolor\": \"#2a3f5f\"}, \"baxis\": {\"endlinecolor\": \"#2a3f5f\", \"gridcolor\": \"white\", \"linecolor\": \"white\", \"minorgridcolor\": \"white\", \"startlinecolor\": \"#2a3f5f\"}, \"type\": \"carpet\"}], \"choropleth\": [{\"colorbar\": {\"outlinewidth\": 0, \"ticks\": \"\"}, \"type\": \"choropleth\"}], \"contour\": [{\"colorbar\": {\"outlinewidth\": 0, \"ticks\": \"\"}, \"colorscale\": [[0.0, \"#0d0887\"], [0.1111111111111111, \"#46039f\"], [0.2222222222222222, \"#7201a8\"], [0.3333333333333333, \"#9c179e\"], [0.4444444444444444, \"#bd3786\"], [0.5555555555555556, \"#d8576b\"], [0.6666666666666666, \"#ed7953\"], [0.7777777777777778, \"#fb9f3a\"], [0.8888888888888888, \"#fdca26\"], [1.0, \"#f0f921\"]], \"type\": \"contour\"}], \"contourcarpet\": [{\"colorbar\": {\"outlinewidth\": 0, \"ticks\": \"\"}, \"type\": \"contourcarpet\"}], \"heatmap\": [{\"colorbar\": {\"outlinewidth\": 0, \"ticks\": \"\"}, \"colorscale\": [[0.0, \"#0d0887\"], [0.1111111111111111, \"#46039f\"], [0.2222222222222222, \"#7201a8\"], [0.3333333333333333, \"#9c179e\"], [0.4444444444444444, \"#bd3786\"], [0.5555555555555556, \"#d8576b\"], [0.6666666666666666, \"#ed7953\"], [0.7777777777777778, \"#fb9f3a\"], [0.8888888888888888, \"#fdca26\"], [1.0, \"#f0f921\"]], \"type\": \"heatmap\"}], \"heatmapgl\": [{\"colorbar\": {\"outlinewidth\": 0, \"ticks\": \"\"}, \"colorscale\": [[0.0, \"#0d0887\"], [0.1111111111111111, \"#46039f\"], [0.2222222222222222, \"#7201a8\"], [0.3333333333333333, \"#9c179e\"], [0.4444444444444444, \"#bd3786\"], [0.5555555555555556, \"#d8576b\"], [0.6666666666666666, \"#ed7953\"], [0.7777777777777778, \"#fb9f3a\"], [0.8888888888888888, \"#fdca26\"], [1.0, \"#f0f921\"]], \"type\": \"heatmapgl\"}], \"histogram\": [{\"marker\": {\"colorbar\": {\"outlinewidth\": 0, \"ticks\": \"\"}}, \"type\": \"histogram\"}], \"histogram2d\": [{\"colorbar\": {\"outlinewidth\": 0, \"ticks\": \"\"}, \"colorscale\": [[0.0, \"#0d0887\"], [0.1111111111111111, \"#46039f\"], [0.2222222222222222, \"#7201a8\"], [0.3333333333333333, \"#9c179e\"], [0.4444444444444444, \"#bd3786\"], [0.5555555555555556, \"#d8576b\"], [0.6666666666666666, \"#ed7953\"], [0.7777777777777778, \"#fb9f3a\"], [0.8888888888888888, \"#fdca26\"], [1.0, \"#f0f921\"]], \"type\": \"histogram2d\"}], \"histogram2dcontour\": [{\"colorbar\": {\"outlinewidth\": 0, \"ticks\": \"\"}, \"colorscale\": [[0.0, \"#0d0887\"], [0.1111111111111111, \"#46039f\"], [0.2222222222222222, \"#7201a8\"], [0.3333333333333333, \"#9c179e\"], [0.4444444444444444, \"#bd3786\"], [0.5555555555555556, \"#d8576b\"], [0.6666666666666666, \"#ed7953\"], [0.7777777777777778, \"#fb9f3a\"], [0.8888888888888888, \"#fdca26\"], [1.0, \"#f0f921\"]], \"type\": \"histogram2dcontour\"}], \"mesh3d\": [{\"colorbar\": {\"outlinewidth\": 0, \"ticks\": \"\"}, \"type\": \"mesh3d\"}], \"parcoords\": [{\"line\": {\"colorbar\": {\"outlinewidth\": 0, \"ticks\": \"\"}}, \"type\": \"parcoords\"}], \"pie\": [{\"automargin\": true, \"type\": \"pie\"}], \"scatter\": [{\"marker\": {\"colorbar\": {\"outlinewidth\": 0, \"ticks\": \"\"}}, \"type\": \"scatter\"}], \"scatter3d\": [{\"line\": {\"colorbar\": {\"outlinewidth\": 0, \"ticks\": \"\"}}, \"marker\": {\"colorbar\": {\"outlinewidth\": 0, \"ticks\": \"\"}}, \"type\": \"scatter3d\"}], \"scattercarpet\": [{\"marker\": {\"colorbar\": {\"outlinewidth\": 0, \"ticks\": \"\"}}, \"type\": \"scattercarpet\"}], \"scattergeo\": [{\"marker\": {\"colorbar\": {\"outlinewidth\": 0, \"ticks\": \"\"}}, \"type\": \"scattergeo\"}], \"scattergl\": [{\"marker\": {\"colorbar\": {\"outlinewidth\": 0, \"ticks\": \"\"}}, \"type\": \"scattergl\"}], \"scattermapbox\": [{\"marker\": {\"colorbar\": {\"outlinewidth\": 0, \"ticks\": \"\"}}, \"type\": \"scattermapbox\"}], \"scatterpolar\": [{\"marker\": {\"colorbar\": {\"outlinewidth\": 0, \"ticks\": \"\"}}, \"type\": \"scatterpolar\"}], \"scatterpolargl\": [{\"marker\": {\"colorbar\": {\"outlinewidth\": 0, \"ticks\": \"\"}}, \"type\": \"scatterpolargl\"}], \"scatterternary\": [{\"marker\": {\"colorbar\": {\"outlinewidth\": 0, \"ticks\": \"\"}}, \"type\": \"scatterternary\"}], \"surface\": [{\"colorbar\": {\"outlinewidth\": 0, \"ticks\": \"\"}, \"colorscale\": [[0.0, \"#0d0887\"], [0.1111111111111111, \"#46039f\"], [0.2222222222222222, \"#7201a8\"], [0.3333333333333333, \"#9c179e\"], [0.4444444444444444, \"#bd3786\"], [0.5555555555555556, \"#d8576b\"], [0.6666666666666666, \"#ed7953\"], [0.7777777777777778, \"#fb9f3a\"], [0.8888888888888888, \"#fdca26\"], [1.0, \"#f0f921\"]], \"type\": \"surface\"}], \"table\": [{\"cells\": {\"fill\": {\"color\": \"#EBF0F8\"}, \"line\": {\"color\": \"white\"}}, \"header\": {\"fill\": {\"color\": \"#C8D4E3\"}, \"line\": {\"color\": \"white\"}}, \"type\": \"table\"}]}, \"layout\": {\"annotationdefaults\": {\"arrowcolor\": \"#2a3f5f\", \"arrowhead\": 0, \"arrowwidth\": 1}, \"autotypenumbers\": \"strict\", \"coloraxis\": {\"colorbar\": {\"outlinewidth\": 0, \"ticks\": \"\"}}, \"colorscale\": {\"diverging\": [[0, \"#8e0152\"], [0.1, \"#c51b7d\"], [0.2, \"#de77ae\"], [0.3, \"#f1b6da\"], [0.4, \"#fde0ef\"], [0.5, \"#f7f7f7\"], [0.6, \"#e6f5d0\"], [0.7, \"#b8e186\"], [0.8, \"#7fbc41\"], [0.9, \"#4d9221\"], [1, \"#276419\"]], \"sequential\": [[0.0, \"#0d0887\"], [0.1111111111111111, \"#46039f\"], [0.2222222222222222, \"#7201a8\"], [0.3333333333333333, \"#9c179e\"], [0.4444444444444444, \"#bd3786\"], [0.5555555555555556, \"#d8576b\"], [0.6666666666666666, \"#ed7953\"], [0.7777777777777778, \"#fb9f3a\"], [0.8888888888888888, \"#fdca26\"], [1.0, \"#f0f921\"]], \"sequentialminus\": [[0.0, \"#0d0887\"], [0.1111111111111111, \"#46039f\"], [0.2222222222222222, \"#7201a8\"], [0.3333333333333333, \"#9c179e\"], [0.4444444444444444, \"#bd3786\"], [0.5555555555555556, \"#d8576b\"], [0.6666666666666666, \"#ed7953\"], [0.7777777777777778, \"#fb9f3a\"], [0.8888888888888888, \"#fdca26\"], [1.0, \"#f0f921\"]]}, \"colorway\": [\"#636efa\", \"#EF553B\", \"#00cc96\", \"#ab63fa\", \"#FFA15A\", \"#19d3f3\", \"#FF6692\", \"#B6E880\", \"#FF97FF\", \"#FECB52\"], \"font\": {\"color\": \"#2a3f5f\"}, \"geo\": {\"bgcolor\": \"white\", \"lakecolor\": \"white\", \"landcolor\": \"#E5ECF6\", \"showlakes\": true, \"showland\": true, \"subunitcolor\": \"white\"}, \"hoverlabel\": {\"align\": \"left\"}, \"hovermode\": \"closest\", \"mapbox\": {\"style\": \"light\"}, \"paper_bgcolor\": \"white\", \"plot_bgcolor\": \"#E5ECF6\", \"polar\": {\"angularaxis\": {\"gridcolor\": \"white\", \"linecolor\": \"white\", \"ticks\": \"\"}, \"bgcolor\": \"#E5ECF6\", \"radialaxis\": {\"gridcolor\": \"white\", \"linecolor\": \"white\", \"ticks\": \"\"}}, \"scene\": {\"xaxis\": {\"backgroundcolor\": \"#E5ECF6\", \"gridcolor\": \"white\", \"gridwidth\": 2, \"linecolor\": \"white\", \"showbackground\": true, \"ticks\": \"\", \"zerolinecolor\": \"white\"}, \"yaxis\": {\"backgroundcolor\": \"#E5ECF6\", \"gridcolor\": \"white\", \"gridwidth\": 2, \"linecolor\": \"white\", \"showbackground\": true, \"ticks\": \"\", \"zerolinecolor\": \"white\"}, \"zaxis\": {\"backgroundcolor\": \"#E5ECF6\", \"gridcolor\": \"white\", \"gridwidth\": 2, \"linecolor\": \"white\", \"showbackground\": true, \"ticks\": \"\", \"zerolinecolor\": \"white\"}}, \"shapedefaults\": {\"line\": {\"color\": \"#2a3f5f\"}}, \"ternary\": {\"aaxis\": {\"gridcolor\": \"white\", \"linecolor\": \"white\", \"ticks\": \"\"}, \"baxis\": {\"gridcolor\": \"white\", \"linecolor\": \"white\", \"ticks\": \"\"}, \"bgcolor\": \"#E5ECF6\", \"caxis\": {\"gridcolor\": \"white\", \"linecolor\": \"white\", \"ticks\": \"\"}}, \"title\": {\"x\": 0.05}, \"xaxis\": {\"automargin\": true, \"gridcolor\": \"white\", \"linecolor\": \"white\", \"ticks\": \"\", \"title\": {\"standoff\": 15}, \"zerolinecolor\": \"white\", \"zerolinewidth\": 2}, \"yaxis\": {\"automargin\": true, \"gridcolor\": \"white\", \"linecolor\": \"white\", \"ticks\": \"\", \"title\": {\"standoff\": 15}, \"zerolinecolor\": \"white\", \"zerolinewidth\": 2}}}, \"yaxis\": {\"title\": {\"text\": \"Lucro\"}}},                        {\"responsive\": true}                    ).then(function(){\n",
       "                            \n",
       "var gd = document.getElementById('dbb1899e-66ed-4daf-8d64-971c22f1421b');\n",
       "var x = new MutationObserver(function (mutations, observer) {{\n",
       "        var display = window.getComputedStyle(gd).display;\n",
       "        if (!display || display === 'none') {{\n",
       "            console.log([gd, 'removed!']);\n",
       "            Plotly.purge(gd);\n",
       "            observer.disconnect();\n",
       "        }}\n",
       "}});\n",
       "\n",
       "// Listen for the removal of the full notebook cells\n",
       "var notebookContainer = gd.closest('#notebook-container');\n",
       "if (notebookContainer) {{\n",
       "    x.observe(notebookContainer, {childList: true});\n",
       "}}\n",
       "\n",
       "// Listen for the clearing of the current output cell\n",
       "var outputEl = gd.closest('.output');\n",
       "if (outputEl) {{\n",
       "    x.observe(outputEl, {childList: true});\n",
       "}}\n",
       "\n",
       "                        })                };                });            </script>        </div>"
      ]
     },
     "metadata": {},
     "output_type": "display_data"
    }
   ],
   "source": [
    "fig = Figure([\n",
    "    Scatter(\n",
    "        name='Real',\n",
    "        x=y_test['ds'],\n",
    "        y=y_test['y'],\n",
    "        mode='lines',\n",
    "        line=dict(color='rgb(186, 39, 32)'),\n",
    "    ),\n",
    "    \n",
    "    Scatter(\n",
    "        name='Forecast',\n",
    "        x=forecast_data.index,\n",
    "        y=forecast_data['yhat'],\n",
    "        mode='lines',\n",
    "        line=dict(color='rgb(31, 119, 180)'),\n",
    "    ),\n",
    "    Scatter(\n",
    "        name='Upper Bound',\n",
    "        x=forecast_data.index,\n",
    "        y=forecast_data['yhat_upper'],\n",
    "        mode='lines',\n",
    "        marker=dict(color=\"#444\"),\n",
    "        line=dict(width=0),\n",
    "        showlegend=False\n",
    "    ),\n",
    "    Scatter(\n",
    "        name='Lower Bound',\n",
    "        x=forecast_data.index,\n",
    "        y=forecast_data['yhat_lower'],\n",
    "        marker=dict(color=\"#444\"),\n",
    "        line=dict(width=0),\n",
    "        mode='lines',\n",
    "        fillcolor='rgba(68, 68, 68, 0.3)',\n",
    "        fill='tonexty',\n",
    "        showlegend=False\n",
    "    )\n",
    "])\n",
    "\n",
    "fig.update_layout(\n",
    "    yaxis_title='Lucro',\n",
    "    hovermode=\"x\"\n",
    ")\n",
    "fig.show()"
   ]
  },
  {
   "cell_type": "code",
   "execution_count": 51,
   "id": "c2875bc8-0e26-4efd-81ff-8e3dfcd65bf9",
   "metadata": {},
   "outputs": [
    {
     "data": {
      "text/plain": [
       "2407913.4056762685"
      ]
     },
     "execution_count": 51,
     "metadata": {},
     "output_type": "execute_result"
    }
   ],
   "source": [
    "mean_squared_error(y_test['y'], forecast_data['yhat'])"
   ]
  },
  {
   "cell_type": "code",
   "execution_count": 52,
   "id": "8c78910c-93c3-42d3-b4b7-45a72108ab03",
   "metadata": {},
   "outputs": [
    {
     "data": {
      "text/plain": [
       "2.6837610599049513"
      ]
     },
     "execution_count": 52,
     "metadata": {},
     "output_type": "execute_result"
    }
   ],
   "source": [
    "mean_absolute_percentage_error(y_test['y'], forecast_data['yhat'])"
   ]
  },
  {
   "cell_type": "markdown",
   "id": "175f23ff-b7ce-4df8-8e55-c573130c4086",
   "metadata": {},
   "source": [
    "# Next 30 days forecasting"
   ]
  },
  {
   "cell_type": "code",
   "execution_count": 53,
   "id": "ec3924b4-5b0b-4ee7-b7ec-9c9e217e8b57",
   "metadata": {},
   "outputs": [
    {
     "data": {
      "text/html": [
       "<div>\n",
       "<style scoped>\n",
       "    .dataframe tbody tr th:only-of-type {\n",
       "        vertical-align: middle;\n",
       "    }\n",
       "\n",
       "    .dataframe tbody tr th {\n",
       "        vertical-align: top;\n",
       "    }\n",
       "\n",
       "    .dataframe thead th {\n",
       "        text-align: right;\n",
       "    }\n",
       "</style>\n",
       "<table border=\"1\" class=\"dataframe\">\n",
       "  <thead>\n",
       "    <tr style=\"text-align: right;\">\n",
       "      <th></th>\n",
       "      <th>ds</th>\n",
       "      <th>y</th>\n",
       "    </tr>\n",
       "  </thead>\n",
       "  <tbody>\n",
       "    <tr>\n",
       "      <th>1425</th>\n",
       "      <td>2014-12-27</td>\n",
       "      <td>-916.64004</td>\n",
       "    </tr>\n",
       "    <tr>\n",
       "      <th>1426</th>\n",
       "      <td>2014-12-28</td>\n",
       "      <td>81.06380</td>\n",
       "    </tr>\n",
       "    <tr>\n",
       "      <th>1427</th>\n",
       "      <td>2014-12-29</td>\n",
       "      <td>2046.20678</td>\n",
       "    </tr>\n",
       "    <tr>\n",
       "      <th>1428</th>\n",
       "      <td>2014-12-30</td>\n",
       "      <td>2554.00460</td>\n",
       "    </tr>\n",
       "    <tr>\n",
       "      <th>1429</th>\n",
       "      <td>2014-12-31</td>\n",
       "      <td>1020.17080</td>\n",
       "    </tr>\n",
       "  </tbody>\n",
       "</table>\n",
       "</div>"
      ],
      "text/plain": [
       "             ds           y\n",
       "1425 2014-12-27  -916.64004\n",
       "1426 2014-12-28    81.06380\n",
       "1427 2014-12-29  2046.20678\n",
       "1428 2014-12-30  2554.00460\n",
       "1429 2014-12-31  1020.17080"
      ]
     },
     "execution_count": 53,
     "metadata": {},
     "output_type": "execute_result"
    }
   ],
   "source": [
    "data = (ts\n",
    "         .to_frame()\n",
    "         .reset_index()\n",
    "         .rename(columns={'order_date': 'ds', 'profit': 'y'}))\n",
    "data.tail()"
   ]
  },
  {
   "cell_type": "code",
   "execution_count": 54,
   "id": "8a27f9b6-d67e-4cb6-bb78-9375e58f20ff",
   "metadata": {},
   "outputs": [
    {
     "name": "stderr",
     "output_type": "stream",
     "text": [
      "INFO:prophet:Disabling daily seasonality. Run prophet with daily_seasonality=True to override this.\n"
     ]
    },
    {
     "data": {
      "text/plain": [
       "<prophet.forecaster.Prophet at 0x7f47a3a62a60>"
      ]
     },
     "execution_count": 54,
     "metadata": {},
     "output_type": "execute_result"
    }
   ],
   "source": [
    "model = Prophet()\n",
    "model.fit(data)"
   ]
  },
  {
   "cell_type": "code",
   "execution_count": 55,
   "id": "63e87b8e-01ba-4fae-85a0-bff72897b907",
   "metadata": {},
   "outputs": [
    {
     "data": {
      "text/html": [
       "<div>\n",
       "<style scoped>\n",
       "    .dataframe tbody tr th:only-of-type {\n",
       "        vertical-align: middle;\n",
       "    }\n",
       "\n",
       "    .dataframe tbody tr th {\n",
       "        vertical-align: top;\n",
       "    }\n",
       "\n",
       "    .dataframe thead th {\n",
       "        text-align: right;\n",
       "    }\n",
       "</style>\n",
       "<table border=\"1\" class=\"dataframe\">\n",
       "  <thead>\n",
       "    <tr style=\"text-align: right;\">\n",
       "      <th></th>\n",
       "      <th>ds</th>\n",
       "      <th>trend</th>\n",
       "      <th>yhat_lower</th>\n",
       "      <th>yhat_upper</th>\n",
       "      <th>trend_lower</th>\n",
       "      <th>trend_upper</th>\n",
       "      <th>additive_terms</th>\n",
       "      <th>additive_terms_lower</th>\n",
       "      <th>additive_terms_upper</th>\n",
       "      <th>weekly</th>\n",
       "      <th>weekly_lower</th>\n",
       "      <th>weekly_upper</th>\n",
       "      <th>yearly</th>\n",
       "      <th>yearly_lower</th>\n",
       "      <th>yearly_upper</th>\n",
       "      <th>multiplicative_terms</th>\n",
       "      <th>multiplicative_terms_lower</th>\n",
       "      <th>multiplicative_terms_upper</th>\n",
       "      <th>yhat</th>\n",
       "    </tr>\n",
       "  </thead>\n",
       "  <tbody>\n",
       "    <tr>\n",
       "      <th>1455</th>\n",
       "      <td>2015-01-26</td>\n",
       "      <td>1513.443189</td>\n",
       "      <td>21.235832</td>\n",
       "      <td>3178.637612</td>\n",
       "      <td>1513.430074</td>\n",
       "      <td>1513.459234</td>\n",
       "      <td>52.228298</td>\n",
       "      <td>52.228298</td>\n",
       "      <td>52.228298</td>\n",
       "      <td>174.571800</td>\n",
       "      <td>174.571800</td>\n",
       "      <td>174.571800</td>\n",
       "      <td>-122.343502</td>\n",
       "      <td>-122.343502</td>\n",
       "      <td>-122.343502</td>\n",
       "      <td>0.0</td>\n",
       "      <td>0.0</td>\n",
       "      <td>0.0</td>\n",
       "      <td>1565.671487</td>\n",
       "    </tr>\n",
       "    <tr>\n",
       "      <th>1456</th>\n",
       "      <td>2015-01-27</td>\n",
       "      <td>1514.121308</td>\n",
       "      <td>-83.972077</td>\n",
       "      <td>3138.083999</td>\n",
       "      <td>1514.107463</td>\n",
       "      <td>1514.139454</td>\n",
       "      <td>82.796225</td>\n",
       "      <td>82.796225</td>\n",
       "      <td>82.796225</td>\n",
       "      <td>188.365807</td>\n",
       "      <td>188.365807</td>\n",
       "      <td>188.365807</td>\n",
       "      <td>-105.569582</td>\n",
       "      <td>-105.569582</td>\n",
       "      <td>-105.569582</td>\n",
       "      <td>0.0</td>\n",
       "      <td>0.0</td>\n",
       "      <td>0.0</td>\n",
       "      <td>1596.917533</td>\n",
       "    </tr>\n",
       "    <tr>\n",
       "      <th>1457</th>\n",
       "      <td>2015-01-28</td>\n",
       "      <td>1514.799428</td>\n",
       "      <td>-145.310412</td>\n",
       "      <td>3046.912213</td>\n",
       "      <td>1514.784714</td>\n",
       "      <td>1514.819476</td>\n",
       "      <td>-112.252273</td>\n",
       "      <td>-112.252273</td>\n",
       "      <td>-112.252273</td>\n",
       "      <td>-23.596436</td>\n",
       "      <td>-23.596436</td>\n",
       "      <td>-23.596436</td>\n",
       "      <td>-88.655838</td>\n",
       "      <td>-88.655838</td>\n",
       "      <td>-88.655838</td>\n",
       "      <td>0.0</td>\n",
       "      <td>0.0</td>\n",
       "      <td>0.0</td>\n",
       "      <td>1402.547155</td>\n",
       "    </tr>\n",
       "    <tr>\n",
       "      <th>1458</th>\n",
       "      <td>2015-01-29</td>\n",
       "      <td>1515.477548</td>\n",
       "      <td>-57.700344</td>\n",
       "      <td>3068.308385</td>\n",
       "      <td>1515.460945</td>\n",
       "      <td>1515.499580</td>\n",
       "      <td>73.353728</td>\n",
       "      <td>73.353728</td>\n",
       "      <td>73.353728</td>\n",
       "      <td>145.453086</td>\n",
       "      <td>145.453086</td>\n",
       "      <td>145.453086</td>\n",
       "      <td>-72.099358</td>\n",
       "      <td>-72.099358</td>\n",
       "      <td>-72.099358</td>\n",
       "      <td>0.0</td>\n",
       "      <td>0.0</td>\n",
       "      <td>0.0</td>\n",
       "      <td>1588.831276</td>\n",
       "    </tr>\n",
       "    <tr>\n",
       "      <th>1459</th>\n",
       "      <td>2015-01-30</td>\n",
       "      <td>1516.155667</td>\n",
       "      <td>116.510843</td>\n",
       "      <td>3202.943084</td>\n",
       "      <td>1516.137326</td>\n",
       "      <td>1516.178919</td>\n",
       "      <td>105.112152</td>\n",
       "      <td>105.112152</td>\n",
       "      <td>105.112152</td>\n",
       "      <td>161.496905</td>\n",
       "      <td>161.496905</td>\n",
       "      <td>161.496905</td>\n",
       "      <td>-56.384753</td>\n",
       "      <td>-56.384753</td>\n",
       "      <td>-56.384753</td>\n",
       "      <td>0.0</td>\n",
       "      <td>0.0</td>\n",
       "      <td>0.0</td>\n",
       "      <td>1621.267819</td>\n",
       "    </tr>\n",
       "  </tbody>\n",
       "</table>\n",
       "</div>"
      ],
      "text/plain": [
       "             ds        trend  yhat_lower   yhat_upper  trend_lower  \\\n",
       "1455 2015-01-26  1513.443189   21.235832  3178.637612  1513.430074   \n",
       "1456 2015-01-27  1514.121308  -83.972077  3138.083999  1514.107463   \n",
       "1457 2015-01-28  1514.799428 -145.310412  3046.912213  1514.784714   \n",
       "1458 2015-01-29  1515.477548  -57.700344  3068.308385  1515.460945   \n",
       "1459 2015-01-30  1516.155667  116.510843  3202.943084  1516.137326   \n",
       "\n",
       "      trend_upper  additive_terms  additive_terms_lower  additive_terms_upper  \\\n",
       "1455  1513.459234       52.228298             52.228298             52.228298   \n",
       "1456  1514.139454       82.796225             82.796225             82.796225   \n",
       "1457  1514.819476     -112.252273           -112.252273           -112.252273   \n",
       "1458  1515.499580       73.353728             73.353728             73.353728   \n",
       "1459  1516.178919      105.112152            105.112152            105.112152   \n",
       "\n",
       "          weekly  weekly_lower  weekly_upper      yearly  yearly_lower  \\\n",
       "1455  174.571800    174.571800    174.571800 -122.343502   -122.343502   \n",
       "1456  188.365807    188.365807    188.365807 -105.569582   -105.569582   \n",
       "1457  -23.596436    -23.596436    -23.596436  -88.655838    -88.655838   \n",
       "1458  145.453086    145.453086    145.453086  -72.099358    -72.099358   \n",
       "1459  161.496905    161.496905    161.496905  -56.384753    -56.384753   \n",
       "\n",
       "      yearly_upper  multiplicative_terms  multiplicative_terms_lower  \\\n",
       "1455   -122.343502                   0.0                         0.0   \n",
       "1456   -105.569582                   0.0                         0.0   \n",
       "1457    -88.655838                   0.0                         0.0   \n",
       "1458    -72.099358                   0.0                         0.0   \n",
       "1459    -56.384753                   0.0                         0.0   \n",
       "\n",
       "      multiplicative_terms_upper         yhat  \n",
       "1455                         0.0  1565.671487  \n",
       "1456                         0.0  1596.917533  \n",
       "1457                         0.0  1402.547155  \n",
       "1458                         0.0  1588.831276  \n",
       "1459                         0.0  1621.267819  "
      ]
     },
     "execution_count": 55,
     "metadata": {},
     "output_type": "execute_result"
    }
   ],
   "source": [
    "future = model.make_future_dataframe(periods=30)\n",
    "\n",
    "forecast = model.predict(future)\n",
    "forecast.tail()"
   ]
  },
  {
   "cell_type": "code",
   "execution_count": 56,
   "id": "36a03916-7521-429c-9cbc-482135089686",
   "metadata": {},
   "outputs": [
    {
     "data": {
      "text/html": [
       "<div>\n",
       "<style scoped>\n",
       "    .dataframe tbody tr th:only-of-type {\n",
       "        vertical-align: middle;\n",
       "    }\n",
       "\n",
       "    .dataframe tbody tr th {\n",
       "        vertical-align: top;\n",
       "    }\n",
       "\n",
       "    .dataframe thead th {\n",
       "        text-align: right;\n",
       "    }\n",
       "</style>\n",
       "<table border=\"1\" class=\"dataframe\">\n",
       "  <thead>\n",
       "    <tr style=\"text-align: right;\">\n",
       "      <th></th>\n",
       "      <th>ds</th>\n",
       "      <th>trend</th>\n",
       "      <th>yhat_lower</th>\n",
       "      <th>yhat_upper</th>\n",
       "      <th>trend_lower</th>\n",
       "      <th>trend_upper</th>\n",
       "      <th>additive_terms</th>\n",
       "      <th>additive_terms_lower</th>\n",
       "      <th>additive_terms_upper</th>\n",
       "      <th>weekly</th>\n",
       "      <th>weekly_lower</th>\n",
       "      <th>weekly_upper</th>\n",
       "      <th>yearly</th>\n",
       "      <th>yearly_lower</th>\n",
       "      <th>yearly_upper</th>\n",
       "      <th>multiplicative_terms</th>\n",
       "      <th>multiplicative_terms_lower</th>\n",
       "      <th>multiplicative_terms_upper</th>\n",
       "      <th>yhat</th>\n",
       "    </tr>\n",
       "  </thead>\n",
       "  <tbody>\n",
       "    <tr>\n",
       "      <th>1430</th>\n",
       "      <td>2015-01-01</td>\n",
       "      <td>1496.490198</td>\n",
       "      <td>291.868230</td>\n",
       "      <td>3396.136245</td>\n",
       "      <td>1496.490198</td>\n",
       "      <td>1496.490198</td>\n",
       "      <td>274.887694</td>\n",
       "      <td>274.887694</td>\n",
       "      <td>274.887694</td>\n",
       "      <td>145.453086</td>\n",
       "      <td>145.453086</td>\n",
       "      <td>145.453086</td>\n",
       "      <td>129.434607</td>\n",
       "      <td>129.434607</td>\n",
       "      <td>129.434607</td>\n",
       "      <td>0.0</td>\n",
       "      <td>0.0</td>\n",
       "      <td>0.0</td>\n",
       "      <td>1771.377892</td>\n",
       "    </tr>\n",
       "    <tr>\n",
       "      <th>1431</th>\n",
       "      <td>2015-01-02</td>\n",
       "      <td>1497.168317</td>\n",
       "      <td>260.555604</td>\n",
       "      <td>3422.053891</td>\n",
       "      <td>1497.168317</td>\n",
       "      <td>1497.168317</td>\n",
       "      <td>269.533428</td>\n",
       "      <td>269.533428</td>\n",
       "      <td>269.533428</td>\n",
       "      <td>161.496905</td>\n",
       "      <td>161.496905</td>\n",
       "      <td>161.496905</td>\n",
       "      <td>108.036524</td>\n",
       "      <td>108.036524</td>\n",
       "      <td>108.036524</td>\n",
       "      <td>0.0</td>\n",
       "      <td>0.0</td>\n",
       "      <td>0.0</td>\n",
       "      <td>1766.701746</td>\n",
       "    </tr>\n",
       "    <tr>\n",
       "      <th>1432</th>\n",
       "      <td>2015-01-03</td>\n",
       "      <td>1497.846437</td>\n",
       "      <td>-65.975659</td>\n",
       "      <td>3022.774533</td>\n",
       "      <td>1497.846437</td>\n",
       "      <td>1497.846437</td>\n",
       "      <td>-79.568586</td>\n",
       "      <td>-79.568586</td>\n",
       "      <td>-79.568586</td>\n",
       "      <td>-164.578522</td>\n",
       "      <td>-164.578522</td>\n",
       "      <td>-164.578522</td>\n",
       "      <td>85.009937</td>\n",
       "      <td>85.009937</td>\n",
       "      <td>85.009937</td>\n",
       "      <td>0.0</td>\n",
       "      <td>0.0</td>\n",
       "      <td>0.0</td>\n",
       "      <td>1418.277851</td>\n",
       "    </tr>\n",
       "    <tr>\n",
       "      <th>1433</th>\n",
       "      <td>2015-01-04</td>\n",
       "      <td>1498.524557</td>\n",
       "      <td>-531.833276</td>\n",
       "      <td>2590.796720</td>\n",
       "      <td>1498.524557</td>\n",
       "      <td>1498.524557</td>\n",
       "      <td>-421.045904</td>\n",
       "      <td>-421.045904</td>\n",
       "      <td>-421.045904</td>\n",
       "      <td>-481.712640</td>\n",
       "      <td>-481.712640</td>\n",
       "      <td>-481.712640</td>\n",
       "      <td>60.666736</td>\n",
       "      <td>60.666736</td>\n",
       "      <td>60.666736</td>\n",
       "      <td>0.0</td>\n",
       "      <td>0.0</td>\n",
       "      <td>0.0</td>\n",
       "      <td>1077.478652</td>\n",
       "    </tr>\n",
       "    <tr>\n",
       "      <th>1434</th>\n",
       "      <td>2015-01-05</td>\n",
       "      <td>1499.202676</td>\n",
       "      <td>140.175040</td>\n",
       "      <td>3383.429539</td>\n",
       "      <td>1499.202676</td>\n",
       "      <td>1499.202676</td>\n",
       "      <td>209.934421</td>\n",
       "      <td>209.934421</td>\n",
       "      <td>209.934421</td>\n",
       "      <td>174.571800</td>\n",
       "      <td>174.571800</td>\n",
       "      <td>174.571800</td>\n",
       "      <td>35.362621</td>\n",
       "      <td>35.362621</td>\n",
       "      <td>35.362621</td>\n",
       "      <td>0.0</td>\n",
       "      <td>0.0</td>\n",
       "      <td>0.0</td>\n",
       "      <td>1709.137097</td>\n",
       "    </tr>\n",
       "  </tbody>\n",
       "</table>\n",
       "</div>"
      ],
      "text/plain": [
       "             ds        trend  yhat_lower   yhat_upper  trend_lower  \\\n",
       "1430 2015-01-01  1496.490198  291.868230  3396.136245  1496.490198   \n",
       "1431 2015-01-02  1497.168317  260.555604  3422.053891  1497.168317   \n",
       "1432 2015-01-03  1497.846437  -65.975659  3022.774533  1497.846437   \n",
       "1433 2015-01-04  1498.524557 -531.833276  2590.796720  1498.524557   \n",
       "1434 2015-01-05  1499.202676  140.175040  3383.429539  1499.202676   \n",
       "\n",
       "      trend_upper  additive_terms  additive_terms_lower  additive_terms_upper  \\\n",
       "1430  1496.490198      274.887694            274.887694            274.887694   \n",
       "1431  1497.168317      269.533428            269.533428            269.533428   \n",
       "1432  1497.846437      -79.568586            -79.568586            -79.568586   \n",
       "1433  1498.524557     -421.045904           -421.045904           -421.045904   \n",
       "1434  1499.202676      209.934421            209.934421            209.934421   \n",
       "\n",
       "          weekly  weekly_lower  weekly_upper      yearly  yearly_lower  \\\n",
       "1430  145.453086    145.453086    145.453086  129.434607    129.434607   \n",
       "1431  161.496905    161.496905    161.496905  108.036524    108.036524   \n",
       "1432 -164.578522   -164.578522   -164.578522   85.009937     85.009937   \n",
       "1433 -481.712640   -481.712640   -481.712640   60.666736     60.666736   \n",
       "1434  174.571800    174.571800    174.571800   35.362621     35.362621   \n",
       "\n",
       "      yearly_upper  multiplicative_terms  multiplicative_terms_lower  \\\n",
       "1430    129.434607                   0.0                         0.0   \n",
       "1431    108.036524                   0.0                         0.0   \n",
       "1432     85.009937                   0.0                         0.0   \n",
       "1433     60.666736                   0.0                         0.0   \n",
       "1434     35.362621                   0.0                         0.0   \n",
       "\n",
       "      multiplicative_terms_upper         yhat  \n",
       "1430                         0.0  1771.377892  \n",
       "1431                         0.0  1766.701746  \n",
       "1432                         0.0  1418.277851  \n",
       "1433                         0.0  1077.478652  \n",
       "1434                         0.0  1709.137097  "
      ]
     },
     "execution_count": 56,
     "metadata": {},
     "output_type": "execute_result"
    }
   ],
   "source": [
    "forecast_data = forecast[-30:]\n",
    "forecast_data.head()"
   ]
  },
  {
   "cell_type": "code",
   "execution_count": 57,
   "id": "5822eed6-a7bb-4273-95c2-7f901de19350",
   "metadata": {},
   "outputs": [
    {
     "data": {
      "application/vnd.plotly.v1+json": {
       "config": {
        "plotlyServerURL": "https://plot.ly"
       },
       "data": [
        {
         "line": {
          "color": "rgb(31, 119, 180)"
         },
         "mode": "lines",
         "name": "Forecast",
         "showlegend": false,
         "type": "scatter",
         "x": [
          "2015-01-01T00:00:00",
          "2015-01-02T00:00:00",
          "2015-01-03T00:00:00",
          "2015-01-04T00:00:00",
          "2015-01-05T00:00:00",
          "2015-01-06T00:00:00",
          "2015-01-07T00:00:00",
          "2015-01-08T00:00:00",
          "2015-01-09T00:00:00",
          "2015-01-10T00:00:00",
          "2015-01-11T00:00:00",
          "2015-01-12T00:00:00",
          "2015-01-13T00:00:00",
          "2015-01-14T00:00:00",
          "2015-01-15T00:00:00",
          "2015-01-16T00:00:00",
          "2015-01-17T00:00:00",
          "2015-01-18T00:00:00",
          "2015-01-19T00:00:00",
          "2015-01-20T00:00:00",
          "2015-01-21T00:00:00",
          "2015-01-22T00:00:00",
          "2015-01-23T00:00:00",
          "2015-01-24T00:00:00",
          "2015-01-25T00:00:00",
          "2015-01-26T00:00:00",
          "2015-01-27T00:00:00",
          "2015-01-28T00:00:00",
          "2015-01-29T00:00:00",
          "2015-01-30T00:00:00"
         ],
         "y": [
          1771.3778916146678,
          1766.701745671524,
          1418.27785137441,
          1077.4786522768022,
          1709.137096999127,
          1697.7358810162937,
          1460.4278456775291,
          1604.4166501629095,
          1596.1267556560972,
          1246.8817092649329,
          908.1630552093095,
          1544.841860987011,
          1541.3651968041563,
          1314.7757615070118,
          1472.0938296297672,
          1479.4905598451296,
          1147.9715948241183,
          828.6431646709525,
          1485.9525112330884,
          1503.8847501151267,
          1298.9940970774437,
          1477.7983286657632,
          1505.9651828700476,
          1194.0092745972565,
          892.5713723331583,
          1565.6714869437842,
          1596.9175332219056,
          1402.5471547585976,
          1588.8312758424984,
          1621.2678189156659
         ]
        },
        {
         "line": {
          "width": 0
         },
         "marker": {
          "color": "#444"
         },
         "mode": "lines",
         "name": "Upper Bound",
         "showlegend": false,
         "type": "scatter",
         "x": [
          "2015-01-01T00:00:00",
          "2015-01-02T00:00:00",
          "2015-01-03T00:00:00",
          "2015-01-04T00:00:00",
          "2015-01-05T00:00:00",
          "2015-01-06T00:00:00",
          "2015-01-07T00:00:00",
          "2015-01-08T00:00:00",
          "2015-01-09T00:00:00",
          "2015-01-10T00:00:00",
          "2015-01-11T00:00:00",
          "2015-01-12T00:00:00",
          "2015-01-13T00:00:00",
          "2015-01-14T00:00:00",
          "2015-01-15T00:00:00",
          "2015-01-16T00:00:00",
          "2015-01-17T00:00:00",
          "2015-01-18T00:00:00",
          "2015-01-19T00:00:00",
          "2015-01-20T00:00:00",
          "2015-01-21T00:00:00",
          "2015-01-22T00:00:00",
          "2015-01-23T00:00:00",
          "2015-01-24T00:00:00",
          "2015-01-25T00:00:00",
          "2015-01-26T00:00:00",
          "2015-01-27T00:00:00",
          "2015-01-28T00:00:00",
          "2015-01-29T00:00:00",
          "2015-01-30T00:00:00"
         ],
         "y": [
          3396.136244881173,
          3422.053891401666,
          3022.7745329444756,
          2590.796719523645,
          3383.429539395048,
          3384.046765856929,
          3060.482845925942,
          3231.0706307511373,
          3217.269780013188,
          2853.8027032543587,
          2554.938734687585,
          3101.832464111685,
          3068.6472779204823,
          2930.7658010410078,
          3125.759419729191,
          3085.1827167258266,
          2788.466883375002,
          2449.058764615215,
          2949.6901239585877,
          3099.570666741937,
          2945.7290325079166,
          3004.8325607920206,
          3100.6248700421993,
          2841.1717726342345,
          2477.664295895908,
          3178.637612003341,
          3138.083999428558,
          3046.9122134412264,
          3068.3083850143544,
          3202.943083984334
         ]
        },
        {
         "fill": "tonexty",
         "fillcolor": "rgba(68, 68, 68, 0.3)",
         "line": {
          "width": 0
         },
         "marker": {
          "color": "#444"
         },
         "mode": "lines",
         "name": "Lower Bound",
         "showlegend": false,
         "type": "scatter",
         "x": [
          "2015-01-01T00:00:00",
          "2015-01-02T00:00:00",
          "2015-01-03T00:00:00",
          "2015-01-04T00:00:00",
          "2015-01-05T00:00:00",
          "2015-01-06T00:00:00",
          "2015-01-07T00:00:00",
          "2015-01-08T00:00:00",
          "2015-01-09T00:00:00",
          "2015-01-10T00:00:00",
          "2015-01-11T00:00:00",
          "2015-01-12T00:00:00",
          "2015-01-13T00:00:00",
          "2015-01-14T00:00:00",
          "2015-01-15T00:00:00",
          "2015-01-16T00:00:00",
          "2015-01-17T00:00:00",
          "2015-01-18T00:00:00",
          "2015-01-19T00:00:00",
          "2015-01-20T00:00:00",
          "2015-01-21T00:00:00",
          "2015-01-22T00:00:00",
          "2015-01-23T00:00:00",
          "2015-01-24T00:00:00",
          "2015-01-25T00:00:00",
          "2015-01-26T00:00:00",
          "2015-01-27T00:00:00",
          "2015-01-28T00:00:00",
          "2015-01-29T00:00:00",
          "2015-01-30T00:00:00"
         ],
         "y": [
          291.868229639633,
          260.5556040679046,
          -65.97565916373641,
          -531.8332763383808,
          140.17503978856803,
          70.93899968605878,
          -131.9352178721829,
          38.90701969071036,
          -151.1191473219162,
          -353.24902857703734,
          -620.0972462731011,
          24.870895298926712,
          -39.51861712429241,
          -291.55865131612336,
          -43.51982856108758,
          -171.5645342577066,
          -453.0569659970908,
          -703.6084996725607,
          -88.0612616013807,
          -102.68967581310072,
          -299.1811488934297,
          -190.8567988342855,
          54.26006009972863,
          -316.6042677755516,
          -597.9337475247262,
          21.235832248604133,
          -83.97207739486058,
          -145.310412222709,
          -57.700344195007794,
          116.51084316500614
         ]
        }
       ],
       "layout": {
        "autosize": true,
        "hovermode": "x",
        "template": {
         "data": {
          "bar": [
           {
            "error_x": {
             "color": "#2a3f5f"
            },
            "error_y": {
             "color": "#2a3f5f"
            },
            "marker": {
             "line": {
              "color": "#E5ECF6",
              "width": 0.5
             }
            },
            "type": "bar"
           }
          ],
          "barpolar": [
           {
            "marker": {
             "line": {
              "color": "#E5ECF6",
              "width": 0.5
             }
            },
            "type": "barpolar"
           }
          ],
          "carpet": [
           {
            "aaxis": {
             "endlinecolor": "#2a3f5f",
             "gridcolor": "white",
             "linecolor": "white",
             "minorgridcolor": "white",
             "startlinecolor": "#2a3f5f"
            },
            "baxis": {
             "endlinecolor": "#2a3f5f",
             "gridcolor": "white",
             "linecolor": "white",
             "minorgridcolor": "white",
             "startlinecolor": "#2a3f5f"
            },
            "type": "carpet"
           }
          ],
          "choropleth": [
           {
            "colorbar": {
             "outlinewidth": 0,
             "ticks": ""
            },
            "type": "choropleth"
           }
          ],
          "contour": [
           {
            "colorbar": {
             "outlinewidth": 0,
             "ticks": ""
            },
            "colorscale": [
             [
              0,
              "#0d0887"
             ],
             [
              0.1111111111111111,
              "#46039f"
             ],
             [
              0.2222222222222222,
              "#7201a8"
             ],
             [
              0.3333333333333333,
              "#9c179e"
             ],
             [
              0.4444444444444444,
              "#bd3786"
             ],
             [
              0.5555555555555556,
              "#d8576b"
             ],
             [
              0.6666666666666666,
              "#ed7953"
             ],
             [
              0.7777777777777778,
              "#fb9f3a"
             ],
             [
              0.8888888888888888,
              "#fdca26"
             ],
             [
              1,
              "#f0f921"
             ]
            ],
            "type": "contour"
           }
          ],
          "contourcarpet": [
           {
            "colorbar": {
             "outlinewidth": 0,
             "ticks": ""
            },
            "type": "contourcarpet"
           }
          ],
          "heatmap": [
           {
            "colorbar": {
             "outlinewidth": 0,
             "ticks": ""
            },
            "colorscale": [
             [
              0,
              "#0d0887"
             ],
             [
              0.1111111111111111,
              "#46039f"
             ],
             [
              0.2222222222222222,
              "#7201a8"
             ],
             [
              0.3333333333333333,
              "#9c179e"
             ],
             [
              0.4444444444444444,
              "#bd3786"
             ],
             [
              0.5555555555555556,
              "#d8576b"
             ],
             [
              0.6666666666666666,
              "#ed7953"
             ],
             [
              0.7777777777777778,
              "#fb9f3a"
             ],
             [
              0.8888888888888888,
              "#fdca26"
             ],
             [
              1,
              "#f0f921"
             ]
            ],
            "type": "heatmap"
           }
          ],
          "heatmapgl": [
           {
            "colorbar": {
             "outlinewidth": 0,
             "ticks": ""
            },
            "colorscale": [
             [
              0,
              "#0d0887"
             ],
             [
              0.1111111111111111,
              "#46039f"
             ],
             [
              0.2222222222222222,
              "#7201a8"
             ],
             [
              0.3333333333333333,
              "#9c179e"
             ],
             [
              0.4444444444444444,
              "#bd3786"
             ],
             [
              0.5555555555555556,
              "#d8576b"
             ],
             [
              0.6666666666666666,
              "#ed7953"
             ],
             [
              0.7777777777777778,
              "#fb9f3a"
             ],
             [
              0.8888888888888888,
              "#fdca26"
             ],
             [
              1,
              "#f0f921"
             ]
            ],
            "type": "heatmapgl"
           }
          ],
          "histogram": [
           {
            "marker": {
             "colorbar": {
              "outlinewidth": 0,
              "ticks": ""
             }
            },
            "type": "histogram"
           }
          ],
          "histogram2d": [
           {
            "colorbar": {
             "outlinewidth": 0,
             "ticks": ""
            },
            "colorscale": [
             [
              0,
              "#0d0887"
             ],
             [
              0.1111111111111111,
              "#46039f"
             ],
             [
              0.2222222222222222,
              "#7201a8"
             ],
             [
              0.3333333333333333,
              "#9c179e"
             ],
             [
              0.4444444444444444,
              "#bd3786"
             ],
             [
              0.5555555555555556,
              "#d8576b"
             ],
             [
              0.6666666666666666,
              "#ed7953"
             ],
             [
              0.7777777777777778,
              "#fb9f3a"
             ],
             [
              0.8888888888888888,
              "#fdca26"
             ],
             [
              1,
              "#f0f921"
             ]
            ],
            "type": "histogram2d"
           }
          ],
          "histogram2dcontour": [
           {
            "colorbar": {
             "outlinewidth": 0,
             "ticks": ""
            },
            "colorscale": [
             [
              0,
              "#0d0887"
             ],
             [
              0.1111111111111111,
              "#46039f"
             ],
             [
              0.2222222222222222,
              "#7201a8"
             ],
             [
              0.3333333333333333,
              "#9c179e"
             ],
             [
              0.4444444444444444,
              "#bd3786"
             ],
             [
              0.5555555555555556,
              "#d8576b"
             ],
             [
              0.6666666666666666,
              "#ed7953"
             ],
             [
              0.7777777777777778,
              "#fb9f3a"
             ],
             [
              0.8888888888888888,
              "#fdca26"
             ],
             [
              1,
              "#f0f921"
             ]
            ],
            "type": "histogram2dcontour"
           }
          ],
          "mesh3d": [
           {
            "colorbar": {
             "outlinewidth": 0,
             "ticks": ""
            },
            "type": "mesh3d"
           }
          ],
          "parcoords": [
           {
            "line": {
             "colorbar": {
              "outlinewidth": 0,
              "ticks": ""
             }
            },
            "type": "parcoords"
           }
          ],
          "pie": [
           {
            "automargin": true,
            "type": "pie"
           }
          ],
          "scatter": [
           {
            "marker": {
             "colorbar": {
              "outlinewidth": 0,
              "ticks": ""
             }
            },
            "type": "scatter"
           }
          ],
          "scatter3d": [
           {
            "line": {
             "colorbar": {
              "outlinewidth": 0,
              "ticks": ""
             }
            },
            "marker": {
             "colorbar": {
              "outlinewidth": 0,
              "ticks": ""
             }
            },
            "type": "scatter3d"
           }
          ],
          "scattercarpet": [
           {
            "marker": {
             "colorbar": {
              "outlinewidth": 0,
              "ticks": ""
             }
            },
            "type": "scattercarpet"
           }
          ],
          "scattergeo": [
           {
            "marker": {
             "colorbar": {
              "outlinewidth": 0,
              "ticks": ""
             }
            },
            "type": "scattergeo"
           }
          ],
          "scattergl": [
           {
            "marker": {
             "colorbar": {
              "outlinewidth": 0,
              "ticks": ""
             }
            },
            "type": "scattergl"
           }
          ],
          "scattermapbox": [
           {
            "marker": {
             "colorbar": {
              "outlinewidth": 0,
              "ticks": ""
             }
            },
            "type": "scattermapbox"
           }
          ],
          "scatterpolar": [
           {
            "marker": {
             "colorbar": {
              "outlinewidth": 0,
              "ticks": ""
             }
            },
            "type": "scatterpolar"
           }
          ],
          "scatterpolargl": [
           {
            "marker": {
             "colorbar": {
              "outlinewidth": 0,
              "ticks": ""
             }
            },
            "type": "scatterpolargl"
           }
          ],
          "scatterternary": [
           {
            "marker": {
             "colorbar": {
              "outlinewidth": 0,
              "ticks": ""
             }
            },
            "type": "scatterternary"
           }
          ],
          "surface": [
           {
            "colorbar": {
             "outlinewidth": 0,
             "ticks": ""
            },
            "colorscale": [
             [
              0,
              "#0d0887"
             ],
             [
              0.1111111111111111,
              "#46039f"
             ],
             [
              0.2222222222222222,
              "#7201a8"
             ],
             [
              0.3333333333333333,
              "#9c179e"
             ],
             [
              0.4444444444444444,
              "#bd3786"
             ],
             [
              0.5555555555555556,
              "#d8576b"
             ],
             [
              0.6666666666666666,
              "#ed7953"
             ],
             [
              0.7777777777777778,
              "#fb9f3a"
             ],
             [
              0.8888888888888888,
              "#fdca26"
             ],
             [
              1,
              "#f0f921"
             ]
            ],
            "type": "surface"
           }
          ],
          "table": [
           {
            "cells": {
             "fill": {
              "color": "#EBF0F8"
             },
             "line": {
              "color": "white"
             }
            },
            "header": {
             "fill": {
              "color": "#C8D4E3"
             },
             "line": {
              "color": "white"
             }
            },
            "type": "table"
           }
          ]
         },
         "layout": {
          "annotationdefaults": {
           "arrowcolor": "#2a3f5f",
           "arrowhead": 0,
           "arrowwidth": 1
          },
          "autotypenumbers": "strict",
          "coloraxis": {
           "colorbar": {
            "outlinewidth": 0,
            "ticks": ""
           }
          },
          "colorscale": {
           "diverging": [
            [
             0,
             "#8e0152"
            ],
            [
             0.1,
             "#c51b7d"
            ],
            [
             0.2,
             "#de77ae"
            ],
            [
             0.3,
             "#f1b6da"
            ],
            [
             0.4,
             "#fde0ef"
            ],
            [
             0.5,
             "#f7f7f7"
            ],
            [
             0.6,
             "#e6f5d0"
            ],
            [
             0.7,
             "#b8e186"
            ],
            [
             0.8,
             "#7fbc41"
            ],
            [
             0.9,
             "#4d9221"
            ],
            [
             1,
             "#276419"
            ]
           ],
           "sequential": [
            [
             0,
             "#0d0887"
            ],
            [
             0.1111111111111111,
             "#46039f"
            ],
            [
             0.2222222222222222,
             "#7201a8"
            ],
            [
             0.3333333333333333,
             "#9c179e"
            ],
            [
             0.4444444444444444,
             "#bd3786"
            ],
            [
             0.5555555555555556,
             "#d8576b"
            ],
            [
             0.6666666666666666,
             "#ed7953"
            ],
            [
             0.7777777777777778,
             "#fb9f3a"
            ],
            [
             0.8888888888888888,
             "#fdca26"
            ],
            [
             1,
             "#f0f921"
            ]
           ],
           "sequentialminus": [
            [
             0,
             "#0d0887"
            ],
            [
             0.1111111111111111,
             "#46039f"
            ],
            [
             0.2222222222222222,
             "#7201a8"
            ],
            [
             0.3333333333333333,
             "#9c179e"
            ],
            [
             0.4444444444444444,
             "#bd3786"
            ],
            [
             0.5555555555555556,
             "#d8576b"
            ],
            [
             0.6666666666666666,
             "#ed7953"
            ],
            [
             0.7777777777777778,
             "#fb9f3a"
            ],
            [
             0.8888888888888888,
             "#fdca26"
            ],
            [
             1,
             "#f0f921"
            ]
           ]
          },
          "colorway": [
           "#636efa",
           "#EF553B",
           "#00cc96",
           "#ab63fa",
           "#FFA15A",
           "#19d3f3",
           "#FF6692",
           "#B6E880",
           "#FF97FF",
           "#FECB52"
          ],
          "font": {
           "color": "#2a3f5f"
          },
          "geo": {
           "bgcolor": "white",
           "lakecolor": "white",
           "landcolor": "#E5ECF6",
           "showlakes": true,
           "showland": true,
           "subunitcolor": "white"
          },
          "hoverlabel": {
           "align": "left"
          },
          "hovermode": "closest",
          "mapbox": {
           "style": "light"
          },
          "paper_bgcolor": "white",
          "plot_bgcolor": "#E5ECF6",
          "polar": {
           "angularaxis": {
            "gridcolor": "white",
            "linecolor": "white",
            "ticks": ""
           },
           "bgcolor": "#E5ECF6",
           "radialaxis": {
            "gridcolor": "white",
            "linecolor": "white",
            "ticks": ""
           }
          },
          "scene": {
           "xaxis": {
            "backgroundcolor": "#E5ECF6",
            "gridcolor": "white",
            "gridwidth": 2,
            "linecolor": "white",
            "showbackground": true,
            "ticks": "",
            "zerolinecolor": "white"
           },
           "yaxis": {
            "backgroundcolor": "#E5ECF6",
            "gridcolor": "white",
            "gridwidth": 2,
            "linecolor": "white",
            "showbackground": true,
            "ticks": "",
            "zerolinecolor": "white"
           },
           "zaxis": {
            "backgroundcolor": "#E5ECF6",
            "gridcolor": "white",
            "gridwidth": 2,
            "linecolor": "white",
            "showbackground": true,
            "ticks": "",
            "zerolinecolor": "white"
           }
          },
          "shapedefaults": {
           "line": {
            "color": "#2a3f5f"
           }
          },
          "ternary": {
           "aaxis": {
            "gridcolor": "white",
            "linecolor": "white",
            "ticks": ""
           },
           "baxis": {
            "gridcolor": "white",
            "linecolor": "white",
            "ticks": ""
           },
           "bgcolor": "#E5ECF6",
           "caxis": {
            "gridcolor": "white",
            "linecolor": "white",
            "ticks": ""
           }
          },
          "title": {
           "x": 0.05
          },
          "xaxis": {
           "automargin": true,
           "gridcolor": "white",
           "linecolor": "white",
           "ticks": "",
           "title": {
            "standoff": 15
           },
           "zerolinecolor": "white",
           "zerolinewidth": 2
          },
          "yaxis": {
           "automargin": true,
           "gridcolor": "white",
           "linecolor": "white",
           "ticks": "",
           "title": {
            "standoff": 15
           },
           "zerolinecolor": "white",
           "zerolinewidth": 2
          }
         }
        },
        "xaxis": {
         "autorange": true,
         "range": [
          "2015-01-01",
          "2015-01-30"
         ],
         "type": "date"
        },
        "yaxis": {
         "autorange": true,
         "range": [
          -932.811965843351,
          3651.2573575724564
         ],
         "title": {
          "text": "Lucro"
         },
         "type": "linear"
        }
       }
      },
      "image/png": "[encoded data removed]",
      "text/html": [
       "<div>                            <div id=\"985c9f87-402c-46d9-9f54-6313b2d5d007\" class=\"plotly-graph-div\" style=\"height:525px; width:100%;\"></div>            <script type=\"text/javascript\">                require([\"plotly\"], function(Plotly) {                    window.PLOTLYENV=window.PLOTLYENV || {};                                    if (document.getElementById(\"985c9f87-402c-46d9-9f54-6313b2d5d007\")) {                    Plotly.newPlot(                        \"985c9f87-402c-46d9-9f54-6313b2d5d007\",                        [{\"line\": {\"color\": \"rgb(31, 119, 180)\"}, \"mode\": \"lines\", \"name\": \"Forecast\", \"showlegend\": false, \"type\": \"scatter\", \"x\": [\"2015-01-01T00:00:00\", \"2015-01-02T00:00:00\", \"2015-01-03T00:00:00\", \"2015-01-04T00:00:00\", \"2015-01-05T00:00:00\", \"2015-01-06T00:00:00\", \"2015-01-07T00:00:00\", \"2015-01-08T00:00:00\", \"2015-01-09T00:00:00\", \"2015-01-10T00:00:00\", \"2015-01-11T00:00:00\", \"2015-01-12T00:00:00\", \"2015-01-13T00:00:00\", \"2015-01-14T00:00:00\", \"2015-01-15T00:00:00\", \"2015-01-16T00:00:00\", \"2015-01-17T00:00:00\", \"2015-01-18T00:00:00\", \"2015-01-19T00:00:00\", \"2015-01-20T00:00:00\", \"2015-01-21T00:00:00\", \"2015-01-22T00:00:00\", \"2015-01-23T00:00:00\", \"2015-01-24T00:00:00\", \"2015-01-25T00:00:00\", \"2015-01-26T00:00:00\", \"2015-01-27T00:00:00\", \"2015-01-28T00:00:00\", \"2015-01-29T00:00:00\", \"2015-01-30T00:00:00\"], \"y\": [1771.3778916146678, 1766.701745671524, 1418.27785137441, 1077.4786522768022, 1709.137096999127, 1697.7358810162937, 1460.4278456775291, 1604.4166501629095, 1596.1267556560972, 1246.8817092649329, 908.1630552093095, 1544.841860987011, 1541.3651968041563, 1314.7757615070118, 1472.0938296297672, 1479.4905598451296, 1147.9715948241183, 828.6431646709525, 1485.9525112330884, 1503.8847501151267, 1298.9940970774437, 1477.7983286657632, 1505.9651828700476, 1194.0092745972565, 892.5713723331583, 1565.6714869437842, 1596.9175332219056, 1402.5471547585976, 1588.8312758424984, 1621.2678189156659]}, {\"line\": {\"width\": 0}, \"marker\": {\"color\": \"#444\"}, \"mode\": \"lines\", \"name\": \"Upper Bound\", \"showlegend\": false, \"type\": \"scatter\", \"x\": [\"2015-01-01T00:00:00\", \"2015-01-02T00:00:00\", \"2015-01-03T00:00:00\", \"2015-01-04T00:00:00\", \"2015-01-05T00:00:00\", \"2015-01-06T00:00:00\", \"2015-01-07T00:00:00\", \"2015-01-08T00:00:00\", \"2015-01-09T00:00:00\", \"2015-01-10T00:00:00\", \"2015-01-11T00:00:00\", \"2015-01-12T00:00:00\", \"2015-01-13T00:00:00\", \"2015-01-14T00:00:00\", \"2015-01-15T00:00:00\", \"2015-01-16T00:00:00\", \"2015-01-17T00:00:00\", \"2015-01-18T00:00:00\", \"2015-01-19T00:00:00\", \"2015-01-20T00:00:00\", \"2015-01-21T00:00:00\", \"2015-01-22T00:00:00\", \"2015-01-23T00:00:00\", \"2015-01-24T00:00:00\", \"2015-01-25T00:00:00\", \"2015-01-26T00:00:00\", \"2015-01-27T00:00:00\", \"2015-01-28T00:00:00\", \"2015-01-29T00:00:00\", \"2015-01-30T00:00:00\"], \"y\": [3396.136244881173, 3422.053891401666, 3022.7745329444756, 2590.796719523645, 3383.429539395048, 3384.046765856929, 3060.482845925942, 3231.0706307511373, 3217.269780013188, 2853.8027032543587, 2554.938734687585, 3101.832464111685, 3068.6472779204823, 2930.7658010410078, 3125.759419729191, 3085.1827167258266, 2788.466883375002, 2449.058764615215, 2949.6901239585877, 3099.570666741937, 2945.7290325079166, 3004.8325607920206, 3100.6248700421993, 2841.1717726342345, 2477.664295895908, 3178.637612003341, 3138.083999428558, 3046.9122134412264, 3068.3083850143544, 3202.943083984334]}, {\"fill\": \"tonexty\", \"fillcolor\": \"rgba(68, 68, 68, 0.3)\", \"line\": {\"width\": 0}, \"marker\": {\"color\": \"#444\"}, \"mode\": \"lines\", \"name\": \"Lower Bound\", \"showlegend\": false, \"type\": \"scatter\", \"x\": [\"2015-01-01T00:00:00\", \"2015-01-02T00:00:00\", \"2015-01-03T00:00:00\", \"2015-01-04T00:00:00\", \"2015-01-05T00:00:00\", \"2015-01-06T00:00:00\", \"2015-01-07T00:00:00\", \"2015-01-08T00:00:00\", \"2015-01-09T00:00:00\", \"2015-01-10T00:00:00\", \"2015-01-11T00:00:00\", \"2015-01-12T00:00:00\", \"2015-01-13T00:00:00\", \"2015-01-14T00:00:00\", \"2015-01-15T00:00:00\", \"2015-01-16T00:00:00\", \"2015-01-17T00:00:00\", \"2015-01-18T00:00:00\", \"2015-01-19T00:00:00\", \"2015-01-20T00:00:00\", \"2015-01-21T00:00:00\", \"2015-01-22T00:00:00\", \"2015-01-23T00:00:00\", \"2015-01-24T00:00:00\", \"2015-01-25T00:00:00\", \"2015-01-26T00:00:00\", \"2015-01-27T00:00:00\", \"2015-01-28T00:00:00\", \"2015-01-29T00:00:00\", \"2015-01-30T00:00:00\"], \"y\": [291.868229639633, 260.5556040679046, -65.97565916373641, -531.8332763383808, 140.17503978856803, 70.93899968605878, -131.9352178721829, 38.90701969071036, -151.1191473219162, -353.24902857703734, -620.0972462731011, 24.870895298926712, -39.51861712429241, -291.55865131612336, -43.51982856108758, -171.5645342577066, -453.0569659970908, -703.6084996725607, -88.0612616013807, -102.68967581310072, -299.1811488934297, -190.8567988342855, 54.26006009972863, -316.6042677755516, -597.9337475247262, 21.235832248604133, -83.97207739486058, -145.310412222709, -57.700344195007794, 116.51084316500614]}],                        {\"hovermode\": \"x\", \"template\": {\"data\": {\"bar\": [{\"error_x\": {\"color\": \"#2a3f5f\"}, \"error_y\": {\"color\": \"#2a3f5f\"}, \"marker\": {\"line\": {\"color\": \"#E5ECF6\", \"width\": 0.5}}, \"type\": \"bar\"}], \"barpolar\": [{\"marker\": {\"line\": {\"color\": \"#E5ECF6\", \"width\": 0.5}}, \"type\": \"barpolar\"}], \"carpet\": [{\"aaxis\": {\"endlinecolor\": \"#2a3f5f\", \"gridcolor\": \"white\", \"linecolor\": \"white\", \"minorgridcolor\": \"white\", \"startlinecolor\": \"#2a3f5f\"}, \"baxis\": {\"endlinecolor\": \"#2a3f5f\", \"gridcolor\": \"white\", \"linecolor\": \"white\", \"minorgridcolor\": \"white\", \"startlinecolor\": \"#2a3f5f\"}, \"type\": \"carpet\"}], \"choropleth\": [{\"colorbar\": {\"outlinewidth\": 0, \"ticks\": \"\"}, \"type\": \"choropleth\"}], \"contour\": [{\"colorbar\": {\"outlinewidth\": 0, \"ticks\": \"\"}, \"colorscale\": [[0.0, \"#0d0887\"], [0.1111111111111111, \"#46039f\"], [0.2222222222222222, \"#7201a8\"], [0.3333333333333333, \"#9c179e\"], [0.4444444444444444, \"#bd3786\"], [0.5555555555555556, \"#d8576b\"], [0.6666666666666666, \"#ed7953\"], [0.7777777777777778, \"#fb9f3a\"], [0.8888888888888888, \"#fdca26\"], [1.0, \"#f0f921\"]], \"type\": \"contour\"}], \"contourcarpet\": [{\"colorbar\": {\"outlinewidth\": 0, \"ticks\": \"\"}, \"type\": \"contourcarpet\"}], \"heatmap\": [{\"colorbar\": {\"outlinewidth\": 0, \"ticks\": \"\"}, \"colorscale\": [[0.0, \"#0d0887\"], [0.1111111111111111, \"#46039f\"], [0.2222222222222222, \"#7201a8\"], [0.3333333333333333, \"#9c179e\"], [0.4444444444444444, \"#bd3786\"], [0.5555555555555556, \"#d8576b\"], [0.6666666666666666, \"#ed7953\"], [0.7777777777777778, \"#fb9f3a\"], [0.8888888888888888, \"#fdca26\"], [1.0, \"#f0f921\"]], \"type\": \"heatmap\"}], \"heatmapgl\": [{\"colorbar\": {\"outlinewidth\": 0, \"ticks\": \"\"}, \"colorscale\": [[0.0, \"#0d0887\"], [0.1111111111111111, \"#46039f\"], [0.2222222222222222, \"#7201a8\"], [0.3333333333333333, \"#9c179e\"], [0.4444444444444444, \"#bd3786\"], [0.5555555555555556, \"#d8576b\"], [0.6666666666666666, \"#ed7953\"], [0.7777777777777778, \"#fb9f3a\"], [0.8888888888888888, \"#fdca26\"], [1.0, \"#f0f921\"]], \"type\": \"heatmapgl\"}], \"histogram\": [{\"marker\": {\"colorbar\": {\"outlinewidth\": 0, \"ticks\": \"\"}}, \"type\": \"histogram\"}], \"histogram2d\": [{\"colorbar\": {\"outlinewidth\": 0, \"ticks\": \"\"}, \"colorscale\": [[0.0, \"#0d0887\"], [0.1111111111111111, \"#46039f\"], [0.2222222222222222, \"#7201a8\"], [0.3333333333333333, \"#9c179e\"], [0.4444444444444444, \"#bd3786\"], [0.5555555555555556, \"#d8576b\"], [0.6666666666666666, \"#ed7953\"], [0.7777777777777778, \"#fb9f3a\"], [0.8888888888888888, \"#fdca26\"], [1.0, \"#f0f921\"]], \"type\": \"histogram2d\"}], \"histogram2dcontour\": [{\"colorbar\": {\"outlinewidth\": 0, \"ticks\": \"\"}, \"colorscale\": [[0.0, \"#0d0887\"], [0.1111111111111111, \"#46039f\"], [0.2222222222222222, \"#7201a8\"], [0.3333333333333333, \"#9c179e\"], [0.4444444444444444, \"#bd3786\"], [0.5555555555555556, \"#d8576b\"], [0.6666666666666666, \"#ed7953\"], [0.7777777777777778, \"#fb9f3a\"], [0.8888888888888888, \"#fdca26\"], [1.0, \"#f0f921\"]], \"type\": \"histogram2dcontour\"}], \"mesh3d\": [{\"colorbar\": {\"outlinewidth\": 0, \"ticks\": \"\"}, \"type\": \"mesh3d\"}], \"parcoords\": [{\"line\": {\"colorbar\": {\"outlinewidth\": 0, \"ticks\": \"\"}}, \"type\": \"parcoords\"}], \"pie\": [{\"automargin\": true, \"type\": \"pie\"}], \"scatter\": [{\"marker\": {\"colorbar\": {\"outlinewidth\": 0, \"ticks\": \"\"}}, \"type\": \"scatter\"}], \"scatter3d\": [{\"line\": {\"colorbar\": {\"outlinewidth\": 0, \"ticks\": \"\"}}, \"marker\": {\"colorbar\": {\"outlinewidth\": 0, \"ticks\": \"\"}}, \"type\": \"scatter3d\"}], \"scattercarpet\": [{\"marker\": {\"colorbar\": {\"outlinewidth\": 0, \"ticks\": \"\"}}, \"type\": \"scattercarpet\"}], \"scattergeo\": [{\"marker\": {\"colorbar\": {\"outlinewidth\": 0, \"ticks\": \"\"}}, \"type\": \"scattergeo\"}], \"scattergl\": [{\"marker\": {\"colorbar\": {\"outlinewidth\": 0, \"ticks\": \"\"}}, \"type\": \"scattergl\"}], \"scattermapbox\": [{\"marker\": {\"colorbar\": {\"outlinewidth\": 0, \"ticks\": \"\"}}, \"type\": \"scattermapbox\"}], \"scatterpolar\": [{\"marker\": {\"colorbar\": {\"outlinewidth\": 0, \"ticks\": \"\"}}, \"type\": \"scatterpolar\"}], \"scatterpolargl\": [{\"marker\": {\"colorbar\": {\"outlinewidth\": 0, \"ticks\": \"\"}}, \"type\": \"scatterpolargl\"}], \"scatterternary\": [{\"marker\": {\"colorbar\": {\"outlinewidth\": 0, \"ticks\": \"\"}}, \"type\": \"scatterternary\"}], \"surface\": [{\"colorbar\": {\"outlinewidth\": 0, \"ticks\": \"\"}, \"colorscale\": [[0.0, \"#0d0887\"], [0.1111111111111111, \"#46039f\"], [0.2222222222222222, \"#7201a8\"], [0.3333333333333333, \"#9c179e\"], [0.4444444444444444, \"#bd3786\"], [0.5555555555555556, \"#d8576b\"], [0.6666666666666666, \"#ed7953\"], [0.7777777777777778, \"#fb9f3a\"], [0.8888888888888888, \"#fdca26\"], [1.0, \"#f0f921\"]], \"type\": \"surface\"}], \"table\": [{\"cells\": {\"fill\": {\"color\": \"#EBF0F8\"}, \"line\": {\"color\": \"white\"}}, \"header\": {\"fill\": {\"color\": \"#C8D4E3\"}, \"line\": {\"color\": \"white\"}}, \"type\": \"table\"}]}, \"layout\": {\"annotationdefaults\": {\"arrowcolor\": \"#2a3f5f\", \"arrowhead\": 0, \"arrowwidth\": 1}, \"autotypenumbers\": \"strict\", \"coloraxis\": {\"colorbar\": {\"outlinewidth\": 0, \"ticks\": \"\"}}, \"colorscale\": {\"diverging\": [[0, \"#8e0152\"], [0.1, \"#c51b7d\"], [0.2, \"#de77ae\"], [0.3, \"#f1b6da\"], [0.4, \"#fde0ef\"], [0.5, \"#f7f7f7\"], [0.6, \"#e6f5d0\"], [0.7, \"#b8e186\"], [0.8, \"#7fbc41\"], [0.9, \"#4d9221\"], [1, \"#276419\"]], \"sequential\": [[0.0, \"#0d0887\"], [0.1111111111111111, \"#46039f\"], [0.2222222222222222, \"#7201a8\"], [0.3333333333333333, \"#9c179e\"], [0.4444444444444444, \"#bd3786\"], [0.5555555555555556, \"#d8576b\"], [0.6666666666666666, \"#ed7953\"], [0.7777777777777778, \"#fb9f3a\"], [0.8888888888888888, \"#fdca26\"], [1.0, \"#f0f921\"]], \"sequentialminus\": [[0.0, \"#0d0887\"], [0.1111111111111111, \"#46039f\"], [0.2222222222222222, \"#7201a8\"], [0.3333333333333333, \"#9c179e\"], [0.4444444444444444, \"#bd3786\"], [0.5555555555555556, \"#d8576b\"], [0.6666666666666666, \"#ed7953\"], [0.7777777777777778, \"#fb9f3a\"], [0.8888888888888888, \"#fdca26\"], [1.0, \"#f0f921\"]]}, \"colorway\": [\"#636efa\", \"#EF553B\", \"#00cc96\", \"#ab63fa\", \"#FFA15A\", \"#19d3f3\", \"#FF6692\", \"#B6E880\", \"#FF97FF\", \"#FECB52\"], \"font\": {\"color\": \"#2a3f5f\"}, \"geo\": {\"bgcolor\": \"white\", \"lakecolor\": \"white\", \"landcolor\": \"#E5ECF6\", \"showlakes\": true, \"showland\": true, \"subunitcolor\": \"white\"}, \"hoverlabel\": {\"align\": \"left\"}, \"hovermode\": \"closest\", \"mapbox\": {\"style\": \"light\"}, \"paper_bgcolor\": \"white\", \"plot_bgcolor\": \"#E5ECF6\", \"polar\": {\"angularaxis\": {\"gridcolor\": \"white\", \"linecolor\": \"white\", \"ticks\": \"\"}, \"bgcolor\": \"#E5ECF6\", \"radialaxis\": {\"gridcolor\": \"white\", \"linecolor\": \"white\", \"ticks\": \"\"}}, \"scene\": {\"xaxis\": {\"backgroundcolor\": \"#E5ECF6\", \"gridcolor\": \"white\", \"gridwidth\": 2, \"linecolor\": \"white\", \"showbackground\": true, \"ticks\": \"\", \"zerolinecolor\": \"white\"}, \"yaxis\": {\"backgroundcolor\": \"#E5ECF6\", \"gridcolor\": \"white\", \"gridwidth\": 2, \"linecolor\": \"white\", \"showbackground\": true, \"ticks\": \"\", \"zerolinecolor\": \"white\"}, \"zaxis\": {\"backgroundcolor\": \"#E5ECF6\", \"gridcolor\": \"white\", \"gridwidth\": 2, \"linecolor\": \"white\", \"showbackground\": true, \"ticks\": \"\", \"zerolinecolor\": \"white\"}}, \"shapedefaults\": {\"line\": {\"color\": \"#2a3f5f\"}}, \"ternary\": {\"aaxis\": {\"gridcolor\": \"white\", \"linecolor\": \"white\", \"ticks\": \"\"}, \"baxis\": {\"gridcolor\": \"white\", \"linecolor\": \"white\", \"ticks\": \"\"}, \"bgcolor\": \"#E5ECF6\", \"caxis\": {\"gridcolor\": \"white\", \"linecolor\": \"white\", \"ticks\": \"\"}}, \"title\": {\"x\": 0.05}, \"xaxis\": {\"automargin\": true, \"gridcolor\": \"white\", \"linecolor\": \"white\", \"ticks\": \"\", \"title\": {\"standoff\": 15}, \"zerolinecolor\": \"white\", \"zerolinewidth\": 2}, \"yaxis\": {\"automargin\": true, \"gridcolor\": \"white\", \"linecolor\": \"white\", \"ticks\": \"\", \"title\": {\"standoff\": 15}, \"zerolinecolor\": \"white\", \"zerolinewidth\": 2}}}, \"yaxis\": {\"title\": {\"text\": \"Lucro\"}}},                        {\"responsive\": true}                    ).then(function(){\n",
       "                            \n",
       "var gd = document.getElementById('985c9f87-402c-46d9-9f54-6313b2d5d007');\n",
       "var x = new MutationObserver(function (mutations, observer) {{\n",
       "        var display = window.getComputedStyle(gd).display;\n",
       "        if (!display || display === 'none') {{\n",
       "            console.log([gd, 'removed!']);\n",
       "            Plotly.purge(gd);\n",
       "            observer.disconnect();\n",
       "        }}\n",
       "}});\n",
       "\n",
       "// Listen for the removal of the full notebook cells\n",
       "var notebookContainer = gd.closest('#notebook-container');\n",
       "if (notebookContainer) {{\n",
       "    x.observe(notebookContainer, {childList: true});\n",
       "}}\n",
       "\n",
       "// Listen for the clearing of the current output cell\n",
       "var outputEl = gd.closest('.output');\n",
       "if (outputEl) {{\n",
       "    x.observe(outputEl, {childList: true});\n",
       "}}\n",
       "\n",
       "                        })                };                });            </script>        </div>"
      ]
     },
     "metadata": {},
     "output_type": "display_data"
    }
   ],
   "source": [
    "fig = Figure([\n",
    "    Scatter(\n",
    "        name='Forecast',\n",
    "        x=forecast_data['ds'],\n",
    "        y=forecast_data['yhat'],\n",
    "        mode='lines',\n",
    "        line=dict(color='rgb(31, 119, 180)'),\n",
    "        showlegend=False\n",
    "    ),\n",
    "    Scatter(\n",
    "        name='Upper Bound',\n",
    "        x=forecast_data['ds'],\n",
    "        y=forecast_data['yhat_upper'],\n",
    "        mode='lines',\n",
    "        marker=dict(color=\"#444\"),\n",
    "        line=dict(width=0),\n",
    "        showlegend=False\n",
    "    ),\n",
    "    Scatter(\n",
    "        name='Lower Bound',\n",
    "        x=forecast_data['ds'],\n",
    "        y=forecast_data['yhat_lower'],\n",
    "        marker=dict(color=\"#444\"),\n",
    "        line=dict(width=0),\n",
    "        mode='lines',\n",
    "        fillcolor='rgba(68, 68, 68, 0.3)',\n",
    "        fill='tonexty',\n",
    "        showlegend=False\n",
    "    )\n",
    "])\n",
    "\n",
    "fig.update_layout(\n",
    "    yaxis_title='Lucro',\n",
    "    hovermode=\"x\"\n",
    ")\n",
    "fig.show()"
   ]
  },
  {
   "cell_type": "code",
   "execution_count": 62,
   "id": "ca554c1d-0deb-478e-b69a-178366bc3e74",
   "metadata": {},
   "outputs": [
    {
     "data": {
      "text/html": [
       "<div>\n",
       "<style scoped>\n",
       "    .dataframe tbody tr th:only-of-type {\n",
       "        vertical-align: middle;\n",
       "    }\n",
       "\n",
       "    .dataframe tbody tr th {\n",
       "        vertical-align: top;\n",
       "    }\n",
       "\n",
       "    .dataframe thead th {\n",
       "        text-align: right;\n",
       "    }\n",
       "</style>\n",
       "<table border=\"1\" class=\"dataframe\">\n",
       "  <thead>\n",
       "    <tr style=\"text-align: right;\">\n",
       "      <th></th>\n",
       "      <th>yhat_lower</th>\n",
       "      <th>yhat_upper</th>\n",
       "      <th>yhat</th>\n",
       "    </tr>\n",
       "    <tr>\n",
       "      <th>ds</th>\n",
       "      <th></th>\n",
       "      <th></th>\n",
       "      <th></th>\n",
       "    </tr>\n",
       "  </thead>\n",
       "  <tbody>\n",
       "    <tr>\n",
       "      <th>2015-01-01</th>\n",
       "      <td>291.868230</td>\n",
       "      <td>3396.136245</td>\n",
       "      <td>1771.377892</td>\n",
       "    </tr>\n",
       "    <tr>\n",
       "      <th>2015-01-02</th>\n",
       "      <td>260.555604</td>\n",
       "      <td>3422.053891</td>\n",
       "      <td>1766.701746</td>\n",
       "    </tr>\n",
       "    <tr>\n",
       "      <th>2015-01-03</th>\n",
       "      <td>-65.975659</td>\n",
       "      <td>3022.774533</td>\n",
       "      <td>1418.277851</td>\n",
       "    </tr>\n",
       "    <tr>\n",
       "      <th>2015-01-04</th>\n",
       "      <td>-531.833276</td>\n",
       "      <td>2590.796720</td>\n",
       "      <td>1077.478652</td>\n",
       "    </tr>\n",
       "    <tr>\n",
       "      <th>2015-01-05</th>\n",
       "      <td>140.175040</td>\n",
       "      <td>3383.429539</td>\n",
       "      <td>1709.137097</td>\n",
       "    </tr>\n",
       "    <tr>\n",
       "      <th>2015-01-06</th>\n",
       "      <td>70.939000</td>\n",
       "      <td>3384.046766</td>\n",
       "      <td>1697.735881</td>\n",
       "    </tr>\n",
       "    <tr>\n",
       "      <th>2015-01-07</th>\n",
       "      <td>-131.935218</td>\n",
       "      <td>3060.482846</td>\n",
       "      <td>1460.427846</td>\n",
       "    </tr>\n",
       "    <tr>\n",
       "      <th>2015-01-08</th>\n",
       "      <td>38.907020</td>\n",
       "      <td>3231.070631</td>\n",
       "      <td>1604.416650</td>\n",
       "    </tr>\n",
       "    <tr>\n",
       "      <th>2015-01-09</th>\n",
       "      <td>-151.119147</td>\n",
       "      <td>3217.269780</td>\n",
       "      <td>1596.126756</td>\n",
       "    </tr>\n",
       "    <tr>\n",
       "      <th>2015-01-10</th>\n",
       "      <td>-353.249029</td>\n",
       "      <td>2853.802703</td>\n",
       "      <td>1246.881709</td>\n",
       "    </tr>\n",
       "    <tr>\n",
       "      <th>2015-01-11</th>\n",
       "      <td>-620.097246</td>\n",
       "      <td>2554.938735</td>\n",
       "      <td>908.163055</td>\n",
       "    </tr>\n",
       "    <tr>\n",
       "      <th>2015-01-12</th>\n",
       "      <td>24.870895</td>\n",
       "      <td>3101.832464</td>\n",
       "      <td>1544.841861</td>\n",
       "    </tr>\n",
       "    <tr>\n",
       "      <th>2015-01-13</th>\n",
       "      <td>-39.518617</td>\n",
       "      <td>3068.647278</td>\n",
       "      <td>1541.365197</td>\n",
       "    </tr>\n",
       "    <tr>\n",
       "      <th>2015-01-14</th>\n",
       "      <td>-291.558651</td>\n",
       "      <td>2930.765801</td>\n",
       "      <td>1314.775762</td>\n",
       "    </tr>\n",
       "    <tr>\n",
       "      <th>2015-01-15</th>\n",
       "      <td>-43.519829</td>\n",
       "      <td>3125.759420</td>\n",
       "      <td>1472.093830</td>\n",
       "    </tr>\n",
       "    <tr>\n",
       "      <th>2015-01-16</th>\n",
       "      <td>-171.564534</td>\n",
       "      <td>3085.182717</td>\n",
       "      <td>1479.490560</td>\n",
       "    </tr>\n",
       "    <tr>\n",
       "      <th>2015-01-17</th>\n",
       "      <td>-453.056966</td>\n",
       "      <td>2788.466883</td>\n",
       "      <td>1147.971595</td>\n",
       "    </tr>\n",
       "    <tr>\n",
       "      <th>2015-01-18</th>\n",
       "      <td>-703.608500</td>\n",
       "      <td>2449.058765</td>\n",
       "      <td>828.643165</td>\n",
       "    </tr>\n",
       "    <tr>\n",
       "      <th>2015-01-19</th>\n",
       "      <td>-88.061262</td>\n",
       "      <td>2949.690124</td>\n",
       "      <td>1485.952511</td>\n",
       "    </tr>\n",
       "    <tr>\n",
       "      <th>2015-01-20</th>\n",
       "      <td>-102.689676</td>\n",
       "      <td>3099.570667</td>\n",
       "      <td>1503.884750</td>\n",
       "    </tr>\n",
       "    <tr>\n",
       "      <th>2015-01-21</th>\n",
       "      <td>-299.181149</td>\n",
       "      <td>2945.729033</td>\n",
       "      <td>1298.994097</td>\n",
       "    </tr>\n",
       "    <tr>\n",
       "      <th>2015-01-22</th>\n",
       "      <td>-190.856799</td>\n",
       "      <td>3004.832561</td>\n",
       "      <td>1477.798329</td>\n",
       "    </tr>\n",
       "    <tr>\n",
       "      <th>2015-01-23</th>\n",
       "      <td>54.260060</td>\n",
       "      <td>3100.624870</td>\n",
       "      <td>1505.965183</td>\n",
       "    </tr>\n",
       "    <tr>\n",
       "      <th>2015-01-24</th>\n",
       "      <td>-316.604268</td>\n",
       "      <td>2841.171773</td>\n",
       "      <td>1194.009275</td>\n",
       "    </tr>\n",
       "    <tr>\n",
       "      <th>2015-01-25</th>\n",
       "      <td>-597.933748</td>\n",
       "      <td>2477.664296</td>\n",
       "      <td>892.571372</td>\n",
       "    </tr>\n",
       "    <tr>\n",
       "      <th>2015-01-26</th>\n",
       "      <td>21.235832</td>\n",
       "      <td>3178.637612</td>\n",
       "      <td>1565.671487</td>\n",
       "    </tr>\n",
       "    <tr>\n",
       "      <th>2015-01-27</th>\n",
       "      <td>-83.972077</td>\n",
       "      <td>3138.083999</td>\n",
       "      <td>1596.917533</td>\n",
       "    </tr>\n",
       "    <tr>\n",
       "      <th>2015-01-28</th>\n",
       "      <td>-145.310412</td>\n",
       "      <td>3046.912213</td>\n",
       "      <td>1402.547155</td>\n",
       "    </tr>\n",
       "    <tr>\n",
       "      <th>2015-01-29</th>\n",
       "      <td>-57.700344</td>\n",
       "      <td>3068.308385</td>\n",
       "      <td>1588.831276</td>\n",
       "    </tr>\n",
       "    <tr>\n",
       "      <th>2015-01-30</th>\n",
       "      <td>116.510843</td>\n",
       "      <td>3202.943084</td>\n",
       "      <td>1621.267819</td>\n",
       "    </tr>\n",
       "  </tbody>\n",
       "</table>\n",
       "</div>"
      ],
      "text/plain": [
       "            yhat_lower   yhat_upper         yhat\n",
       "ds                                              \n",
       "2015-01-01  291.868230  3396.136245  1771.377892\n",
       "2015-01-02  260.555604  3422.053891  1766.701746\n",
       "2015-01-03  -65.975659  3022.774533  1418.277851\n",
       "2015-01-04 -531.833276  2590.796720  1077.478652\n",
       "2015-01-05  140.175040  3383.429539  1709.137097\n",
       "2015-01-06   70.939000  3384.046766  1697.735881\n",
       "2015-01-07 -131.935218  3060.482846  1460.427846\n",
       "2015-01-08   38.907020  3231.070631  1604.416650\n",
       "2015-01-09 -151.119147  3217.269780  1596.126756\n",
       "2015-01-10 -353.249029  2853.802703  1246.881709\n",
       "2015-01-11 -620.097246  2554.938735   908.163055\n",
       "2015-01-12   24.870895  3101.832464  1544.841861\n",
       "2015-01-13  -39.518617  3068.647278  1541.365197\n",
       "2015-01-14 -291.558651  2930.765801  1314.775762\n",
       "2015-01-15  -43.519829  3125.759420  1472.093830\n",
       "2015-01-16 -171.564534  3085.182717  1479.490560\n",
       "2015-01-17 -453.056966  2788.466883  1147.971595\n",
       "2015-01-18 -703.608500  2449.058765   828.643165\n",
       "2015-01-19  -88.061262  2949.690124  1485.952511\n",
       "2015-01-20 -102.689676  3099.570667  1503.884750\n",
       "2015-01-21 -299.181149  2945.729033  1298.994097\n",
       "2015-01-22 -190.856799  3004.832561  1477.798329\n",
       "2015-01-23   54.260060  3100.624870  1505.965183\n",
       "2015-01-24 -316.604268  2841.171773  1194.009275\n",
       "2015-01-25 -597.933748  2477.664296   892.571372\n",
       "2015-01-26   21.235832  3178.637612  1565.671487\n",
       "2015-01-27  -83.972077  3138.083999  1596.917533\n",
       "2015-01-28 -145.310412  3046.912213  1402.547155\n",
       "2015-01-29  -57.700344  3068.308385  1588.831276\n",
       "2015-01-30  116.510843  3202.943084  1621.267819"
      ]
     },
     "execution_count": 62,
     "metadata": {},
     "output_type": "execute_result"
    }
   ],
   "source": [
    "forecast_data.set_index('ds')[['yhat_lower', 'yhat_upper', 'yhat']]"
   ]
  },
  {
   "cell_type": "code",
   "execution_count": null,
   "id": "327b1525-d02f-4f8b-91d7-2651830e6aac",
   "metadata": {},
   "outputs": [],
   "source": []
  }
 ],
 "metadata": {
  "kernelspec": {
   "display_name": "Python 3",
   "language": "python",
   "name": "python3"
  },
  "language_info": {
   "codemirror_mode": {
    "name": "ipython",
    "version": 3
   },
   "file_extension": ".py",
   "mimetype": "text/x-python",
   "name": "python",
   "nbconvert_exporter": "python",
   "pygments_lexer": "ipython3",
   "version": "3.8.5"
  }
 },
 "nbformat": 4,
 "nbformat_minor": 5
}
